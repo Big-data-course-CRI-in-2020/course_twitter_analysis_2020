{
 "cells": [
  {
   "cell_type": "markdown",
   "metadata": {},
   "source": [
    "# Using Twitter Streaming API to collect users in a geographical region"
   ]
  },
  {
   "cell_type": "markdown",
   "metadata": {},
   "source": [
    "In this notebook, we present how to use the Streaming Twitter API, which allows us to collect a sample of real-time tweets (around 1% of the total flow). We added a geographical filter in Paris region (Île-de-France). We used this request for a few weeks, in order to collect several user ids in the Paris region."
   ]
  },
  {
   "cell_type": "code",
   "execution_count": 1,
   "metadata": {
    "id": "DGfqcw4Bzdkn"
   },
   "outputs": [],
   "source": [
    "import json\n",
    "import tweepy\n",
    "import os"
   ]
  },
  {
   "cell_type": "markdown",
   "metadata": {
    "id": "kbo4xc-f0Aew"
   },
   "source": [
    "# Authentification"
   ]
  },
  {
   "cell_type": "markdown",
   "metadata": {
    "id": "YzeWoBCY3Rlt"
   },
   "source": [
    "You would need to enter the tokens from your Twitter developer's account (see https://developer.twitter.com/en/portal/dashboard)"
   ]
  },
  {
   "cell_type": "code",
   "execution_count": 2,
   "metadata": {},
   "outputs": [],
   "source": [
    "path_to_keys='../data/keys'\n",
    "path_to_data='../data/streaming'"
   ]
  },
  {
   "cell_type": "code",
   "execution_count": 3,
   "metadata": {
    "id": "j0FOGKRSz96H"
   },
   "outputs": [],
   "source": [
    "with open(os.path.join(path_to_keys,'auth_naila.json')) as f:\n",
    "    auth_key = json.load(f)\n",
    "    \n",
    "# Import token pairs\n",
    "with open(os.path.join(path_to_keys,'key_naila.json')) as f:\n",
    "    token_key = json.load(f)"
   ]
  },
  {
   "cell_type": "code",
   "execution_count": 4,
   "metadata": {
    "id": "ctxCpqQM0DYP"
   },
   "outputs": [],
   "source": [
    "import pandas as pd\n",
    "\n",
    "# Get these values from your dev.twitter application settings.\n",
    "CONSUMER_KEY = auth_key['consumer_key']\n",
    "CONSUMER_SECRET = auth_key['consumer_secret']\n",
    "ACCESS_TOKEN = token_key['access_token']\n",
    "ACCESS_TOKEN_SECRET = token_key['access_token_secret']\n",
    "\n",
    "auth = tweepy.OAuthHandler(CONSUMER_KEY, CONSUMER_SECRET)\n",
    "auth.set_access_token(ACCESS_TOKEN, ACCESS_TOKEN_SECRET)"
   ]
  },
  {
   "cell_type": "markdown",
   "metadata": {
    "id": "pVi9EWoL0UbF"
   },
   "source": [
    "# Download data from Twitter API"
   ]
  },
  {
   "cell_type": "code",
   "execution_count": 5,
   "metadata": {
    "id": "9aN5RhmI3fRo"
   },
   "outputs": [],
   "source": [
    "from tweepy import Stream\n",
    "from tweepy.streaming import StreamListener\n",
    "from http.client import IncompleteRead\n",
    "import time"
   ]
  },
  {
   "cell_type": "markdown",
   "metadata": {
    "id": "O5Ma5IQW37m8"
   },
   "source": [
    "You can add geographical, language, and keywords filters (stream only tweets containing those keywords)."
   ]
  },
  {
   "cell_type": "code",
   "execution_count": 6,
   "metadata": {
    "id": "gPI3PDdw0cTS"
   },
   "outputs": [],
   "source": [
    "language_id  = \"in\"\n",
    "#most_freq_words = ['some_word', 'word',...]\n",
    "\n",
    "# Bounding boxes for geolocations\n",
    "# Online-Tool to create boxes (c+p as raw CSV): http://boundingbox.klokantech.com/\n",
    "GEOBOX_PARIS = [2.2526417626,48.8163260795,2.4220143351,48.9021588775]\n",
    "GEOBOX_WORLD = [-180,-90,180,90]"
   ]
  },
  {
   "cell_type": "code",
   "execution_count": null,
   "metadata": {
    "colab": {
     "base_uri": "https://localhost:8080/"
    },
    "id": "c8GeFn9j0oXF",
    "outputId": "d4586b4c-0f27-4606-ffbb-2d4c572ce429"
   },
   "outputs": [],
   "source": [
    "class MyListener(StreamListener):\n",
    " \n",
    "    def on_data(self, data):\n",
    "        try:\n",
    "            with open(os.path.join(path_to_data,'twitter-stream-geobox-paris-'+time.strftime(\"%Y-%m-%d-%H\", time.gmtime())+'.json'), 'a') as f:\n",
    "                f.write(data)\n",
    "                return True\n",
    "        except BaseException as e:\n",
    "            print('Error on_data: ', str(e))\n",
    "        return True\n",
    " \n",
    "    def on_error(self, status):\n",
    "        print(status)\n",
    "        return True\n",
    "\n",
    "while True:\n",
    "    \n",
    "    try:\n",
    "        \n",
    "        # Connect/reconnect the stream\n",
    "        twitter_stream = Stream(auth, MyListener())\n",
    "        twitter_stream.filter(locations=GEOBOX_PARIS)\n",
    "        \n",
    "        #twitter_stream.filter(languages=[language_id],track=most_freq_words)\n",
    "        #twitter_stream.filter(languages=['fr'])\n",
    "\n",
    "    except:\n",
    "        \n",
    "        # Oh well, reconnect and keep trucking\n",
    "        continue"
   ]
  },
  {
   "cell_type": "code",
   "execution_count": null,
   "metadata": {
    "id": "RBV30Gii04KD"
   },
   "outputs": [],
   "source": []
  }
 ],
 "metadata": {
  "colab": {
   "collapsed_sections": [],
   "name": "1-DScourse-twitter-streaming-api.ipynb",
   "provenance": [],
   "toc_visible": true
  },
  "kernelspec": {
   "display_name": "Python 3",
   "language": "python",
   "name": "python3"
  },
  "language_info": {
   "codemirror_mode": {
    "name": "ipython",
    "version": 3
   },
   "file_extension": ".py",
   "mimetype": "text/x-python",
   "name": "python",
   "nbconvert_exporter": "python",
   "pygments_lexer": "ipython3",
   "version": "3.7.5"
  }
 },
 "nbformat": 4,
 "nbformat_minor": 1
}
