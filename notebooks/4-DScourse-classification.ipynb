{
 "cells": [
  {
   "cell_type": "code",
   "execution_count": 1,
   "metadata": {},
   "outputs": [],
   "source": [
    "import pandas as pd\n",
    "import numpy as np\n",
    "import os"
   ]
  },
  {
   "cell_type": "markdown",
   "metadata": {},
   "source": [
    "We noticed the presence of a lot of false positives in the data. To identify them and consider only the \"true positive\" tweets mentioning self-reported symptoms, we asked volunteers to label our tweets through our [annotation platform](https://covid-twitter.thecommons.science/), and collected more than 7,000 annotations. We could then use these labelled tweets as a training set, and try to predict the unannotated tweets."
   ]
  },
  {
   "cell_type": "markdown",
   "metadata": {},
   "source": [
    "We use the same tweets data as in the analysis part (all tweets mentioning symptoms); we import the annotations directly from the citizen science platform."
   ]
  },
  {
   "cell_type": "code",
   "execution_count": 2,
   "metadata": {},
   "outputs": [],
   "source": [
    "path_to_data='../data'\n",
    "tweets = pd.read_csv(os.path.join(path_to_data,'list_tweets_symptoms.csv'), sep=';')\n",
    "annotations = pd.read_csv('https://covid-twitter.thecommons.science/download-annotations', sep=';')"
   ]
  },
  {
   "cell_type": "code",
   "execution_count": 3,
   "metadata": {},
   "outputs": [
    {
     "data": {
      "text/html": [
       "<div>\n",
       "<style scoped>\n",
       "    .dataframe tbody tr th:only-of-type {\n",
       "        vertical-align: middle;\n",
       "    }\n",
       "\n",
       "    .dataframe tbody tr th {\n",
       "        vertical-align: top;\n",
       "    }\n",
       "\n",
       "    .dataframe thead th {\n",
       "        text-align: right;\n",
       "    }\n",
       "</style>\n",
       "<table border=\"1\" class=\"dataframe\">\n",
       "  <thead>\n",
       "    <tr style=\"text-align: right;\">\n",
       "      <th></th>\n",
       "      <th>tweet_id</th>\n",
       "      <th>symptom</th>\n",
       "      <th>uuid</th>\n",
       "      <th>timestamp</th>\n",
       "    </tr>\n",
       "  </thead>\n",
       "  <tbody>\n",
       "    <tr>\n",
       "      <th>0</th>\n",
       "      <td>1283868242885345284</td>\n",
       "      <td>no</td>\n",
       "      <td>0c23bd9f-c59b-44a9-9478-9cef1e001f41</td>\n",
       "      <td>2020-08-03 16:23:06.240620+00:00</td>\n",
       "    </tr>\n",
       "    <tr>\n",
       "      <th>1</th>\n",
       "      <td>1276812293427388417</td>\n",
       "      <td>no</td>\n",
       "      <td>0c23bd9f-c59b-44a9-9478-9cef1e001f41</td>\n",
       "      <td>2020-08-03 16:23:13.420263+00:00</td>\n",
       "    </tr>\n",
       "    <tr>\n",
       "      <th>2</th>\n",
       "      <td>1239604283697516544</td>\n",
       "      <td>no</td>\n",
       "      <td>0c23bd9f-c59b-44a9-9478-9cef1e001f41</td>\n",
       "      <td>2020-08-03 16:23:27.856655+00:00</td>\n",
       "    </tr>\n",
       "    <tr>\n",
       "      <th>3</th>\n",
       "      <td>1249084526372048896</td>\n",
       "      <td>skip</td>\n",
       "      <td>0c23bd9f-c59b-44a9-9478-9cef1e001f41</td>\n",
       "      <td>2020-08-03 16:23:47.608572+00:00</td>\n",
       "    </tr>\n",
       "    <tr>\n",
       "      <th>4</th>\n",
       "      <td>1240029569513656321</td>\n",
       "      <td>no</td>\n",
       "      <td>0c23bd9f-c59b-44a9-9478-9cef1e001f41</td>\n",
       "      <td>2020-08-03 16:23:58.495652+00:00</td>\n",
       "    </tr>\n",
       "  </tbody>\n",
       "</table>\n",
       "</div>"
      ],
      "text/plain": [
       "              tweet_id symptom                                  uuid  \\\n",
       "0  1283868242885345284      no  0c23bd9f-c59b-44a9-9478-9cef1e001f41   \n",
       "1  1276812293427388417      no  0c23bd9f-c59b-44a9-9478-9cef1e001f41   \n",
       "2  1239604283697516544      no  0c23bd9f-c59b-44a9-9478-9cef1e001f41   \n",
       "3  1249084526372048896    skip  0c23bd9f-c59b-44a9-9478-9cef1e001f41   \n",
       "4  1240029569513656321      no  0c23bd9f-c59b-44a9-9478-9cef1e001f41   \n",
       "\n",
       "                          timestamp  \n",
       "0  2020-08-03 16:23:06.240620+00:00  \n",
       "1  2020-08-03 16:23:13.420263+00:00  \n",
       "2  2020-08-03 16:23:27.856655+00:00  \n",
       "3  2020-08-03 16:23:47.608572+00:00  \n",
       "4  2020-08-03 16:23:58.495652+00:00  "
      ]
     },
     "execution_count": 3,
     "metadata": {},
     "output_type": "execute_result"
    }
   ],
   "source": [
    "annotations.head()"
   ]
  },
  {
   "cell_type": "markdown",
   "metadata": {},
   "source": [
    "# 1. Data preparation"
   ]
  },
  {
   "cell_type": "code",
   "execution_count": 4,
   "metadata": {},
   "outputs": [
    {
     "name": "stdout",
     "output_type": "stream",
     "text": [
      "Number of annotations : 7371\n",
      "Number of tweets annotated at least once: 4456\n"
     ]
    }
   ],
   "source": [
    "print(\"Number of annotations :\", len(annotations))\n",
    "print(\"Number of tweets annotated at least once:\", len(annotations['tweet_id'].unique()))"
   ]
  },
  {
   "cell_type": "markdown",
   "metadata": {},
   "source": [
    "## 1.1. Clean the labels"
   ]
  },
  {
   "cell_type": "markdown",
   "metadata": {},
   "source": [
    "To clean the labels, we will consider only tweets that have been labelled at least twice, and consistently (that have the same label at least 2/3 of the time)."
   ]
  },
  {
   "cell_type": "code",
   "execution_count": 5,
   "metadata": {},
   "outputs": [
    {
     "data": {
      "text/html": [
       "<div>\n",
       "<style scoped>\n",
       "    .dataframe tbody tr th:only-of-type {\n",
       "        vertical-align: middle;\n",
       "    }\n",
       "\n",
       "    .dataframe tbody tr th {\n",
       "        vertical-align: top;\n",
       "    }\n",
       "\n",
       "    .dataframe thead th {\n",
       "        text-align: right;\n",
       "    }\n",
       "</style>\n",
       "<table border=\"1\" class=\"dataframe\">\n",
       "  <thead>\n",
       "    <tr style=\"text-align: right;\">\n",
       "      <th></th>\n",
       "      <th>tweet_id</th>\n",
       "      <th>no</th>\n",
       "      <th>skip</th>\n",
       "      <th>yes</th>\n",
       "      <th>total</th>\n",
       "    </tr>\n",
       "  </thead>\n",
       "  <tbody>\n",
       "    <tr>\n",
       "      <th>0</th>\n",
       "      <td>1201454549682335745</td>\n",
       "      <td>1.0</td>\n",
       "      <td>0.0</td>\n",
       "      <td>0.0</td>\n",
       "      <td>1.0</td>\n",
       "    </tr>\n",
       "    <tr>\n",
       "      <th>1</th>\n",
       "      <td>1201648756476858368</td>\n",
       "      <td>0.0</td>\n",
       "      <td>1.0</td>\n",
       "      <td>1.0</td>\n",
       "      <td>2.0</td>\n",
       "    </tr>\n",
       "    <tr>\n",
       "      <th>2</th>\n",
       "      <td>1201650692139687936</td>\n",
       "      <td>1.0</td>\n",
       "      <td>0.0</td>\n",
       "      <td>0.0</td>\n",
       "      <td>1.0</td>\n",
       "    </tr>\n",
       "    <tr>\n",
       "      <th>3</th>\n",
       "      <td>1201765188959195137</td>\n",
       "      <td>0.0</td>\n",
       "      <td>1.0</td>\n",
       "      <td>1.0</td>\n",
       "      <td>2.0</td>\n",
       "    </tr>\n",
       "    <tr>\n",
       "      <th>4</th>\n",
       "      <td>1201776800134836224</td>\n",
       "      <td>2.0</td>\n",
       "      <td>0.0</td>\n",
       "      <td>0.0</td>\n",
       "      <td>2.0</td>\n",
       "    </tr>\n",
       "  </tbody>\n",
       "</table>\n",
       "</div>"
      ],
      "text/plain": [
       "              tweet_id   no  skip  yes  total\n",
       "0  1201454549682335745  1.0   0.0  0.0    1.0\n",
       "1  1201648756476858368  0.0   1.0  1.0    2.0\n",
       "2  1201650692139687936  1.0   0.0  0.0    1.0\n",
       "3  1201765188959195137  0.0   1.0  1.0    2.0\n",
       "4  1201776800134836224  2.0   0.0  0.0    2.0"
      ]
     },
     "execution_count": 5,
     "metadata": {},
     "output_type": "execute_result"
    }
   ],
   "source": [
    "# We count the number of annotations, number of tweets labelled yes, no, and skip\n",
    "count_annotations=annotations.groupby(['tweet_id','symptom']).count().reset_index()\n",
    "count_annotations=pd.pivot_table(count_annotations, values='uuid', index='tweet_id', columns='symptom').reset_index().fillna(0)\n",
    "count_annotations['total']=count_annotations[['no','skip','yes']].sum(axis=1)\n",
    "count_annotations.columns.name=None\n",
    "count_annotations.head()"
   ]
  },
  {
   "cell_type": "code",
   "execution_count": 6,
   "metadata": {},
   "outputs": [
    {
     "name": "stdout",
     "output_type": "stream",
     "text": [
      "Number of tweets labelled as yes : 319\n",
      "Number of tweets labelled as no : 1040\n",
      "Number of tweets labelled as skip : 63\n"
     ]
    }
   ],
   "source": [
    "# We then decide to keep only tweets that have been labelled at least twice, \n",
    "# and that have the same label at least 2/3 of the time \n",
    "count_annotations=count_annotations.loc[count_annotations['total']>=2]\n",
    "def return_ids(value):\n",
    "    ids=count_annotations.loc[count_annotations[value]>=count_annotations['total']*2/3, 'tweet_id'].tolist()\n",
    "    return ids\n",
    "\n",
    "for value in ['yes','no','skip']:\n",
    "    print('Number of tweets labelled as ' + str(value) + ' : ' + str(len(return_ids(value))))\n",
    "    \n",
    "ids_yes, ids_no, ids_skip=return_ids('yes'), return_ids('no'), return_ids('skip')"
   ]
  },
  {
   "cell_type": "markdown",
   "metadata": {},
   "source": [
    "## 1.2. Merge the two datasets"
   ]
  },
  {
   "cell_type": "code",
   "execution_count": 7,
   "metadata": {},
   "outputs": [
    {
     "data": {
      "text/html": [
       "<div>\n",
       "<style scoped>\n",
       "    .dataframe tbody tr th:only-of-type {\n",
       "        vertical-align: middle;\n",
       "    }\n",
       "\n",
       "    .dataframe tbody tr th {\n",
       "        vertical-align: top;\n",
       "    }\n",
       "\n",
       "    .dataframe thead th {\n",
       "        text-align: right;\n",
       "    }\n",
       "</style>\n",
       "<table border=\"1\" class=\"dataframe\">\n",
       "  <thead>\n",
       "    <tr style=\"text-align: right;\">\n",
       "      <th></th>\n",
       "      <th>id_str</th>\n",
       "      <th>day</th>\n",
       "      <th>anonymized_text</th>\n",
       "      <th>label</th>\n",
       "      <th>is_annotated</th>\n",
       "    </tr>\n",
       "  </thead>\n",
       "  <tbody>\n",
       "    <tr>\n",
       "      <th>0</th>\n",
       "      <td>1206157336534016001</td>\n",
       "      <td>2019-12-15</td>\n",
       "      <td>Symptomatique [url]</td>\n",
       "      <td>NaN</td>\n",
       "      <td>False</td>\n",
       "    </tr>\n",
       "    <tr>\n",
       "      <th>1</th>\n",
       "      <td>1206550539477159941</td>\n",
       "      <td>2019-12-16</td>\n",
       "      <td>#ReformeRetraite #Delevoye @mention appelle au...</td>\n",
       "      <td>NaN</td>\n",
       "      <td>False</td>\n",
       "    </tr>\n",
       "    <tr>\n",
       "      <th>2</th>\n",
       "      <td>1216811655738413056</td>\n",
       "      <td>2020-01-13</td>\n",
       "      <td>@mention @mention Rhume toux fièvre</td>\n",
       "      <td>True</td>\n",
       "      <td>True</td>\n",
       "    </tr>\n",
       "    <tr>\n",
       "      <th>3</th>\n",
       "      <td>1218113362917236737</td>\n",
       "      <td>2020-01-17</td>\n",
       "      <td>Il serait temps de condamner toutes ces feigna...</td>\n",
       "      <td>NaN</td>\n",
       "      <td>False</td>\n",
       "    </tr>\n",
       "    <tr>\n",
       "      <th>4</th>\n",
       "      <td>1219872603554361344</td>\n",
       "      <td>2020-01-22</td>\n",
       "      <td>@mention Parce que ça veut dire que je serais ...</td>\n",
       "      <td>NaN</td>\n",
       "      <td>False</td>\n",
       "    </tr>\n",
       "  </tbody>\n",
       "</table>\n",
       "</div>"
      ],
      "text/plain": [
       "                id_str         day  \\\n",
       "0  1206157336534016001  2019-12-15   \n",
       "1  1206550539477159941  2019-12-16   \n",
       "2  1216811655738413056  2020-01-13   \n",
       "3  1218113362917236737  2020-01-17   \n",
       "4  1219872603554361344  2020-01-22   \n",
       "\n",
       "                                     anonymized_text label  is_annotated  \n",
       "0                                Symptomatique [url]   NaN         False  \n",
       "1  #ReformeRetraite #Delevoye @mention appelle au...   NaN         False  \n",
       "2                @mention @mention Rhume toux fièvre  True          True  \n",
       "3  Il serait temps de condamner toutes ces feigna...   NaN         False  \n",
       "4  @mention Parce que ça veut dire que je serais ...   NaN         False  "
      ]
     },
     "execution_count": 7,
     "metadata": {},
     "output_type": "execute_result"
    }
   ],
   "source": [
    "# We then use these ids to label our tweets\n",
    "tweets.loc[tweets['id_str'].isin(ids_yes), 'label']=True\n",
    "tweets.loc[tweets['id_str'].isin(ids_no), 'label']=False\n",
    "tweets['is_annotated'] = (tweets['label'].notna())\n",
    "tweets.head()"
   ]
  },
  {
   "cell_type": "markdown",
   "metadata": {},
   "source": [
    "# 2. Building a classifier"
   ]
  },
  {
   "cell_type": "markdown",
   "metadata": {},
   "source": [
    "## 2.1. Reminders about Machine learning algorithms"
   ]
  },
  {
   "cell_type": "markdown",
   "metadata": {},
   "source": [
    "### Global machine learning reminders"
   ]
  },
  {
   "cell_type": "markdown",
   "metadata": {},
   "source": [
    "Before diving into the code, here are some definitions and reminders of machine learning algorithms.\n",
    "\n",
    "The goal of Machine learning is to build automatic procedures to establish general rules from samples of data. We distinguish two different types of algorithms:\n",
    "\n",
    "- **Supervised learning**. We consider $n$ i.i.d. couples $Z_i=(X_i, Y_i)$, following law $P$. $X_i \\in \\mathcal{X}$ (generally $\\mathcal{X}=\\mathbb{R}^d$) is the input variable (also called *feature*), and $Y_i \\in \\mathcal{Y}$ is the output variable (the label).\n",
    "\n",
    "- **Unsupervised learning**. In unsupervised learning, we do not have the labels ($Y_i$ variable). The goal is therefore to caracterize the law of probability that generated the observations. It is often classification problems."
   ]
  },
  {
   "cell_type": "markdown",
   "metadata": {},
   "source": [
    "In supervised learning, we define the **loss function** $l(y, y')$, which measures the error in our prediction, with $y$ the real output and $y'$ the predicted output. We therefore aim to find a function $g:\\mathcal{X} \\rightarrow \\mathcal{Y}$ that minimises the risk $R_P(g) = \\mathbb{E}(l(Y, g(X))$. \n",
    "\n",
    "We distinguish two global problems in supervised learning, depending of the nature of $\\mathcal{Y}$. If $\\mathcal{Y} \\in \\mathbb{R}$, the problem is called **regression**; if $\\mathcal{Y_i}$ is discrete, we are in the case of **classification** (more specifically, if $\\mathcal{Y} \\in \\{0,1\\}$, we talk about binary classification). In the case of classification, we therefore other consider the loss function to be $l(y, y')=\\mathbb{1}(y \\neq y')$, which means $l(y,y')=1$ if $y=y'$ and $l(y,y')=0$ if $y \\neq y'$.\n",
    "\n",
    "The following schema resumes the different types of algorithms."
   ]
  },
  {
   "cell_type": "markdown",
   "metadata": {},
   "source": [
    "<img src=\"imgs/machine-learning-classification.png\" style=\"width: 700px;\">"
   ]
  },
  {
   "cell_type": "markdown",
   "metadata": {},
   "source": [
    "In our case, we are working on a classification problem: we have tweets labelled as true positive (1) or false positive (0)."
   ]
  },
  {
   "cell_type": "markdown",
   "metadata": {},
   "source": [
    "## 2.2. Features building"
   ]
  },
  {
   "cell_type": "markdown",
   "metadata": {},
   "source": [
    "To predict the labels (True or False positive), we use input variables $X_i$ built directly from the tweets. "
   ]
  },
  {
   "cell_type": "markdown",
   "metadata": {},
   "source": [
    "### Clean textual data"
   ]
  },
  {
   "cell_type": "markdown",
   "metadata": {},
   "source": [
    "We first clean the textual data. If we did it by hand in the previous notebook, we can now use [ekphrasis](https://github.com/cbaziotis/ekphrasis), a python package specialized in the treatment of social media data. This package identifies in particular the users mentionned (@username), and the hastags."
   ]
  },
  {
   "cell_type": "code",
   "execution_count": 8,
   "metadata": {},
   "outputs": [],
   "source": [
    "from ekphrasis.classes.preprocessor import TextPreProcessor\n",
    "from ekphrasis.classes.tokenizer import SocialTokenizer\n",
    "from ekphrasis.dicts.emoticons import emoticons\n",
    "from unidecode import unidecode\n",
    "from nltk import ngrams"
   ]
  },
  {
   "cell_type": "code",
   "execution_count": 9,
   "metadata": {},
   "outputs": [
    {
     "name": "stdout",
     "output_type": "stream",
     "text": [
      "Reading twitter - 1grams ...\n",
      "Reading twitter - 2grams ...\n"
     ]
    },
    {
     "name": "stderr",
     "output_type": "stream",
     "text": [
      "/data/Covid19-Analysis-real/CRI_BigDataCourse_2020/big-data-course-env/lib/python3.7/site-packages/ekphrasis/classes/exmanager.py:14: FutureWarning: Possible nested set at position 42\n",
      "  regexes = {k.lower(): re.compile(self.expressions[k]) for k, v in\n"
     ]
    },
    {
     "name": "stdout",
     "output_type": "stream",
     "text": [
      "Reading twitter - 1grams ...\n"
     ]
    },
    {
     "data": {
      "text/html": [
       "<div>\n",
       "<style scoped>\n",
       "    .dataframe tbody tr th:only-of-type {\n",
       "        vertical-align: middle;\n",
       "    }\n",
       "\n",
       "    .dataframe tbody tr th {\n",
       "        vertical-align: top;\n",
       "    }\n",
       "\n",
       "    .dataframe thead th {\n",
       "        text-align: right;\n",
       "    }\n",
       "</style>\n",
       "<table border=\"1\" class=\"dataframe\">\n",
       "  <thead>\n",
       "    <tr style=\"text-align: right;\">\n",
       "      <th></th>\n",
       "      <th>id_str</th>\n",
       "      <th>day</th>\n",
       "      <th>anonymized_text</th>\n",
       "      <th>label</th>\n",
       "      <th>is_annotated</th>\n",
       "      <th>clean_text</th>\n",
       "    </tr>\n",
       "  </thead>\n",
       "  <tbody>\n",
       "    <tr>\n",
       "      <th>0</th>\n",
       "      <td>1206157336534016001</td>\n",
       "      <td>2019-12-15</td>\n",
       "      <td>Symptomatique [url]</td>\n",
       "      <td>NaN</td>\n",
       "      <td>False</td>\n",
       "      <td>symptomatique [url]</td>\n",
       "    </tr>\n",
       "    <tr>\n",
       "      <th>1</th>\n",
       "      <td>1206550539477159941</td>\n",
       "      <td>2019-12-16</td>\n",
       "      <td>#ReformeRetraite #Delevoye @mention appelle au...</td>\n",
       "      <td>NaN</td>\n",
       "      <td>False</td>\n",
       "      <td>&lt;hashtag&gt; reforme retraite &lt;/hashtag&gt; &lt;hashtag...</td>\n",
       "    </tr>\n",
       "    <tr>\n",
       "      <th>2</th>\n",
       "      <td>1216811655738413056</td>\n",
       "      <td>2020-01-13</td>\n",
       "      <td>@mention @mention Rhume toux fièvre</td>\n",
       "      <td>True</td>\n",
       "      <td>True</td>\n",
       "      <td>&lt;user&gt; &lt;user&gt; rhume toux fièvre</td>\n",
       "    </tr>\n",
       "    <tr>\n",
       "      <th>3</th>\n",
       "      <td>1218113362917236737</td>\n",
       "      <td>2020-01-17</td>\n",
       "      <td>Il serait temps de condamner toutes ces feigna...</td>\n",
       "      <td>NaN</td>\n",
       "      <td>False</td>\n",
       "      <td>il serait temps de condamner toutes ces feigna...</td>\n",
       "    </tr>\n",
       "    <tr>\n",
       "      <th>4</th>\n",
       "      <td>1219872603554361344</td>\n",
       "      <td>2020-01-22</td>\n",
       "      <td>@mention Parce que ça veut dire que je serais ...</td>\n",
       "      <td>NaN</td>\n",
       "      <td>False</td>\n",
       "      <td>&lt;user&gt; parce que ça veut dire que je serais en...</td>\n",
       "    </tr>\n",
       "  </tbody>\n",
       "</table>\n",
       "</div>"
      ],
      "text/plain": [
       "                id_str         day  \\\n",
       "0  1206157336534016001  2019-12-15   \n",
       "1  1206550539477159941  2019-12-16   \n",
       "2  1216811655738413056  2020-01-13   \n",
       "3  1218113362917236737  2020-01-17   \n",
       "4  1219872603554361344  2020-01-22   \n",
       "\n",
       "                                     anonymized_text label  is_annotated  \\\n",
       "0                                Symptomatique [url]   NaN         False   \n",
       "1  #ReformeRetraite #Delevoye @mention appelle au...   NaN         False   \n",
       "2                @mention @mention Rhume toux fièvre  True          True   \n",
       "3  Il serait temps de condamner toutes ces feigna...   NaN         False   \n",
       "4  @mention Parce que ça veut dire que je serais ...   NaN         False   \n",
       "\n",
       "                                          clean_text  \n",
       "0                                symptomatique [url]  \n",
       "1  <hashtag> reforme retraite </hashtag> <hashtag...  \n",
       "2                    <user> <user> rhume toux fièvre  \n",
       "3  il serait temps de condamner toutes ces feigna...  \n",
       "4  <user> parce que ça veut dire que je serais en...  "
      ]
     },
     "execution_count": 9,
     "metadata": {},
     "output_type": "execute_result"
    }
   ],
   "source": [
    "# Clean the textual data\n",
    "# Preprocess tweets\n",
    "text_processor = TextPreProcessor(\n",
    "    # terms that will be normalized\n",
    "    normalize=['url', 'email', 'percent', 'money', 'phone', 'user',\n",
    "        'time', 'url', 'date'],\n",
    "    # terms that will be annotated\n",
    "    annotate={\"hashtag\",  \"repeated\",\n",
    "        'emphasis', 'censored'},\n",
    "    fix_html=True,  # fix HTML tokens\n",
    "    \n",
    "    # corpus from which the word statistics are going to be used \n",
    "    # for word segmentation \n",
    "    segmenter=\"twitter\", \n",
    "    \n",
    "    # corpus from which the word statistics are going to be used \n",
    "    # for spell correction\n",
    "    corrector=\"twitter\", \n",
    "    \n",
    "    unpack_hashtags=True,  # perform word segmentation on hashtags\n",
    "    unpack_contractions=True,  # Unpack contractions (can't -> can not)\n",
    "    spell_correct_elong=False,  # spell correction for elongated words\n",
    "    \n",
    "    # select a tokenizer. You can use SocialTokenizer, or pass your own\n",
    "    # the tokenizer, should take as input a string and return a list of tokens\n",
    "    \n",
    "    #tokenizer=SocialTokenizer(lowercase=True).tokenize,\n",
    "    \n",
    "    dicts=[emoticons]\n",
    ")\n",
    "\n",
    "tweets['clean_text'] = tweets['anonymized_text'].apply(lambda x:text_processor.pre_process_doc(x).lower()) \n",
    "tweets.head()"
   ]
  },
  {
   "cell_type": "code",
   "execution_count": 10,
   "metadata": {},
   "outputs": [],
   "source": [
    "def clean_text(text):\n",
    "    \n",
    "    # ekphrasis package adds two hashtags (before and after the word), we want to keep only one\n",
    "    text=text.replace('</hashtag>','').replace('[url]','<url>')\n",
    "    \n",
    "    # remove accents\n",
    "    text=unidecode(text)\n",
    "    \n",
    "    # remove punctuation\n",
    "    text=text.replace('^\\sa-zA-Z0-9@',' ')\n",
    "\n",
    "    return text\n",
    "tweets['clean_text'] = tweets['clean_text'].apply(lambda x: clean_text(x))"
   ]
  },
  {
   "cell_type": "markdown",
   "metadata": {},
   "source": [
    "### Tokenizing and ngrams"
   ]
  },
  {
   "cell_type": "markdown",
   "metadata": {},
   "source": [
    "To use the tweets as features, we need to create several variables based on textual data. We will first **tokenize** the data, which means we distinguish the different words (called *tokens*) in the texts. \n",
    "We also build **n-grams**, which are groups of tokens, so that we can consider associations of words ; for example, we will consider not only *\"tousse\"*, but *\"je tousse\"* (bigram) or *\"je tousse beaucoup\"* (trigram).\n",
    "\n",
    "We use the tokenizer from ekphrasis and the ngrams function from [nltk](http://www.nltk.org/api/nltk.html)."
   ]
  },
  {
   "cell_type": "code",
   "execution_count": 11,
   "metadata": {},
   "outputs": [
    {
     "name": "stderr",
     "output_type": "stream",
     "text": [
      "/data/Covid19-Analysis-real/CRI_BigDataCourse_2020/big-data-course-env/lib/python3.7/site-packages/ekphrasis/classes/tokenizer.py:225: FutureWarning: Possible nested set at position 2190\n",
      "  self.tok = re.compile(r\"({})\".format(\"|\".join(pipeline)))\n"
     ]
    }
   ],
   "source": [
    "tokenizer=SocialTokenizer(lowercase=True).tokenize\n",
    "tweets['tokens']=tweets['clean_text'].apply(lambda x: tokenizer(x))\n",
    "tweets['bigrams']=tweets['tokens'].apply(lambda x: list(ngrams(x,2)))\n",
    "tweets['trigrams']=tweets['tokens'].apply(lambda x: list(ngrams(x,3)))\n",
    "\n",
    "tweets['bigrams']=tweets['bigrams'].apply(lambda x: [' '.join(token) for token in x])\n",
    "tweets['trigrams']=tweets['trigrams'].apply(lambda x: [' '.join(token) for token in x])\n",
    "\n",
    "tweets['tokens']=tweets['tokens']+tweets['bigrams']+tweets['trigrams']"
   ]
  },
  {
   "cell_type": "code",
   "execution_count": 12,
   "metadata": {},
   "outputs": [
    {
     "data": {
      "text/html": [
       "<div>\n",
       "<style scoped>\n",
       "    .dataframe tbody tr th:only-of-type {\n",
       "        vertical-align: middle;\n",
       "    }\n",
       "\n",
       "    .dataframe tbody tr th {\n",
       "        vertical-align: top;\n",
       "    }\n",
       "\n",
       "    .dataframe thead th {\n",
       "        text-align: right;\n",
       "    }\n",
       "</style>\n",
       "<table border=\"1\" class=\"dataframe\">\n",
       "  <thead>\n",
       "    <tr style=\"text-align: right;\">\n",
       "      <th></th>\n",
       "      <th>id_str</th>\n",
       "      <th>day</th>\n",
       "      <th>anonymized_text</th>\n",
       "      <th>label</th>\n",
       "      <th>is_annotated</th>\n",
       "      <th>clean_text</th>\n",
       "      <th>tokens</th>\n",
       "      <th>bigrams</th>\n",
       "      <th>trigrams</th>\n",
       "    </tr>\n",
       "  </thead>\n",
       "  <tbody>\n",
       "    <tr>\n",
       "      <th>0</th>\n",
       "      <td>1206157336534016001</td>\n",
       "      <td>2019-12-15</td>\n",
       "      <td>Symptomatique [url]</td>\n",
       "      <td>NaN</td>\n",
       "      <td>False</td>\n",
       "      <td>symptomatique &lt;url&gt;</td>\n",
       "      <td>[symptomatique, &lt;url&gt;, symptomatique &lt;url&gt;]</td>\n",
       "      <td>[symptomatique &lt;url&gt;]</td>\n",
       "      <td>[]</td>\n",
       "    </tr>\n",
       "    <tr>\n",
       "      <th>1</th>\n",
       "      <td>1206550539477159941</td>\n",
       "      <td>2019-12-16</td>\n",
       "      <td>#ReformeRetraite #Delevoye @mention appelle au...</td>\n",
       "      <td>NaN</td>\n",
       "      <td>False</td>\n",
       "      <td>&lt;hashtag&gt; reforme retraite  &lt;hashtag&gt; delevoye...</td>\n",
       "      <td>[&lt;hashtag&gt;, reforme, retraite, &lt;hashtag&gt;, dele...</td>\n",
       "      <td>[&lt;hashtag&gt; reforme, reforme retraite, retraite...</td>\n",
       "      <td>[&lt;hashtag&gt; reforme retraite, reforme retraite ...</td>\n",
       "    </tr>\n",
       "    <tr>\n",
       "      <th>2</th>\n",
       "      <td>1216811655738413056</td>\n",
       "      <td>2020-01-13</td>\n",
       "      <td>@mention @mention Rhume toux fièvre</td>\n",
       "      <td>True</td>\n",
       "      <td>True</td>\n",
       "      <td>&lt;user&gt; &lt;user&gt; rhume toux fievre</td>\n",
       "      <td>[&lt;user&gt;, &lt;user&gt;, rhume, toux, fievre, &lt;user&gt; &lt;...</td>\n",
       "      <td>[&lt;user&gt; &lt;user&gt;, &lt;user&gt; rhume, rhume toux, toux...</td>\n",
       "      <td>[&lt;user&gt; &lt;user&gt; rhume, &lt;user&gt; rhume toux, rhume...</td>\n",
       "    </tr>\n",
       "    <tr>\n",
       "      <th>3</th>\n",
       "      <td>1218113362917236737</td>\n",
       "      <td>2020-01-17</td>\n",
       "      <td>Il serait temps de condamner toutes ces feigna...</td>\n",
       "      <td>NaN</td>\n",
       "      <td>False</td>\n",
       "      <td>il serait temps de condamner toutes ces feigna...</td>\n",
       "      <td>[il, serait, temps, de, condamner, toutes, ces...</td>\n",
       "      <td>[il serait, serait temps, temps de, de condamn...</td>\n",
       "      <td>[il serait temps, serait temps de, temps de co...</td>\n",
       "    </tr>\n",
       "    <tr>\n",
       "      <th>4</th>\n",
       "      <td>1219872603554361344</td>\n",
       "      <td>2020-01-22</td>\n",
       "      <td>@mention Parce que ça veut dire que je serais ...</td>\n",
       "      <td>NaN</td>\n",
       "      <td>False</td>\n",
       "      <td>&lt;user&gt; parce que ca veut dire que je serais en...</td>\n",
       "      <td>[&lt;user&gt;, parce, que, ca, veut, dire, que, je, ...</td>\n",
       "      <td>[&lt;user&gt; parce, parce que, que ca, ca veut, veu...</td>\n",
       "      <td>[&lt;user&gt; parce que, parce que ca, que ca veut, ...</td>\n",
       "    </tr>\n",
       "  </tbody>\n",
       "</table>\n",
       "</div>"
      ],
      "text/plain": [
       "                id_str         day  \\\n",
       "0  1206157336534016001  2019-12-15   \n",
       "1  1206550539477159941  2019-12-16   \n",
       "2  1216811655738413056  2020-01-13   \n",
       "3  1218113362917236737  2020-01-17   \n",
       "4  1219872603554361344  2020-01-22   \n",
       "\n",
       "                                     anonymized_text label  is_annotated  \\\n",
       "0                                Symptomatique [url]   NaN         False   \n",
       "1  #ReformeRetraite #Delevoye @mention appelle au...   NaN         False   \n",
       "2                @mention @mention Rhume toux fièvre  True          True   \n",
       "3  Il serait temps de condamner toutes ces feigna...   NaN         False   \n",
       "4  @mention Parce que ça veut dire que je serais ...   NaN         False   \n",
       "\n",
       "                                          clean_text  \\\n",
       "0                                symptomatique <url>   \n",
       "1  <hashtag> reforme retraite  <hashtag> delevoye...   \n",
       "2                    <user> <user> rhume toux fievre   \n",
       "3  il serait temps de condamner toutes ces feigna...   \n",
       "4  <user> parce que ca veut dire que je serais en...   \n",
       "\n",
       "                                              tokens  \\\n",
       "0        [symptomatique, <url>, symptomatique <url>]   \n",
       "1  [<hashtag>, reforme, retraite, <hashtag>, dele...   \n",
       "2  [<user>, <user>, rhume, toux, fievre, <user> <...   \n",
       "3  [il, serait, temps, de, condamner, toutes, ces...   \n",
       "4  [<user>, parce, que, ca, veut, dire, que, je, ...   \n",
       "\n",
       "                                             bigrams  \\\n",
       "0                              [symptomatique <url>]   \n",
       "1  [<hashtag> reforme, reforme retraite, retraite...   \n",
       "2  [<user> <user>, <user> rhume, rhume toux, toux...   \n",
       "3  [il serait, serait temps, temps de, de condamn...   \n",
       "4  [<user> parce, parce que, que ca, ca veut, veu...   \n",
       "\n",
       "                                            trigrams  \n",
       "0                                                 []  \n",
       "1  [<hashtag> reforme retraite, reforme retraite ...  \n",
       "2  [<user> <user> rhume, <user> rhume toux, rhume...  \n",
       "3  [il serait temps, serait temps de, temps de co...  \n",
       "4  [<user> parce que, parce que ca, que ca veut, ...  "
      ]
     },
     "execution_count": 12,
     "metadata": {},
     "output_type": "execute_result"
    }
   ],
   "source": [
    "tweets.head()"
   ]
  },
  {
   "cell_type": "markdown",
   "metadata": {},
   "source": [
    "### Vectorizing the data"
   ]
  },
  {
   "cell_type": "markdown",
   "metadata": {},
   "source": [
    "We build features as vectors, which means we want tokens to be converted into numbers.\n",
    "\n",
    "There are several options of vectorizing textual data:\n",
    "- [CountVectorizer](https://scikit-learn.org/stable/modules/generated/sklearn.feature_extraction.text.CountVectorizer.html): Convert a collection of text documents to a matrix of token counts.\n",
    "- [TdidfVectorize](https://scikit-learn.org/stable/modules/generated/sklearn.feature_extraction.text.TfidfVectorizer.html): TF-IDF features. The particularity of TF-IDF is that it evaluates the relative importance of a word in a document: the weight depends of the occurence of the word in the document, and of the occurence of this word in the whole corpus.\n",
    "\n",
    "In these functions, we consider ngrams until 4. It is possible to include stopwords as well but we do not: tweets are very small texts and stopwords ('je', 'mais',...) can be very important to detect true positives in our case."
   ]
  },
  {
   "cell_type": "code",
   "execution_count": 13,
   "metadata": {},
   "outputs": [],
   "source": [
    "from sklearn.feature_extraction.text import TfidfVectorizer,CountVectorizer\n",
    "from sklearn.model_selection import train_test_split # Import train_test_split function\n",
    "\n",
    "\n",
    "# Create features, using 4-gram\n",
    "def vectorize_data(vectorizer, num_features):\n",
    "\n",
    "    vect = vectorizer(max_features = num_features, strip_accents='unicode',\n",
    "                            lowercase=True, ngram_range=(1,4))\n",
    "    print('Fitting Data...')\n",
    "    vect.fit(tweets['clean_text'].values.astype('U'))\n",
    "\n",
    "    print('Starting Transform...')\n",
    "    text = vect.transform(tweets['clean_text'])\n",
    "\n",
    "    print('Label and Incorporate TF-IDF...')\n",
    "    data_array = pd.DataFrame(text.toarray())\n",
    "    feature_names = vect.get_feature_names()\n",
    "\n",
    "    for i in range(num_features):\n",
    "        feature_names[i] = 'token_' + feature_names[i]\n",
    "\n",
    "    data_array.columns = feature_names\n",
    "    tweets_vectorized = pd.concat([tweets, data_array], axis=1)\n",
    "\n",
    "    return tweets_vectorized"
   ]
  },
  {
   "cell_type": "code",
   "execution_count": 14,
   "metadata": {},
   "outputs": [
    {
     "name": "stdout",
     "output_type": "stream",
     "text": [
      "Fitting Data...\n",
      "Starting Transform...\n",
      "Label and Incorporate TF-IDF...\n"
     ]
    },
    {
     "data": {
      "text/html": [
       "<div>\n",
       "<style scoped>\n",
       "    .dataframe tbody tr th:only-of-type {\n",
       "        vertical-align: middle;\n",
       "    }\n",
       "\n",
       "    .dataframe tbody tr th {\n",
       "        vertical-align: top;\n",
       "    }\n",
       "\n",
       "    .dataframe thead th {\n",
       "        text-align: right;\n",
       "    }\n",
       "</style>\n",
       "<table border=\"1\" class=\"dataframe\">\n",
       "  <thead>\n",
       "    <tr style=\"text-align: right;\">\n",
       "      <th></th>\n",
       "      <th>id_str</th>\n",
       "      <th>day</th>\n",
       "      <th>anonymized_text</th>\n",
       "      <th>label</th>\n",
       "      <th>is_annotated</th>\n",
       "      <th>clean_text</th>\n",
       "      <th>tokens</th>\n",
       "      <th>bigrams</th>\n",
       "      <th>trigrams</th>\n",
       "      <th>token_10</th>\n",
       "      <th>...</th>\n",
       "      <th>token_vos</th>\n",
       "      <th>token_votre</th>\n",
       "      <th>token_vous</th>\n",
       "      <th>token_vous avez</th>\n",
       "      <th>token_vous etes</th>\n",
       "      <th>token_vrai</th>\n",
       "      <th>token_vraiment</th>\n",
       "      <th>token_vu</th>\n",
       "      <th>token_wsh</th>\n",
       "      <th>token_yeux</th>\n",
       "    </tr>\n",
       "  </thead>\n",
       "  <tbody>\n",
       "    <tr>\n",
       "      <th>0</th>\n",
       "      <td>1206157336534016001</td>\n",
       "      <td>2019-12-15</td>\n",
       "      <td>Symptomatique [url]</td>\n",
       "      <td>NaN</td>\n",
       "      <td>False</td>\n",
       "      <td>symptomatique &lt;url&gt;</td>\n",
       "      <td>[symptomatique, &lt;url&gt;, symptomatique &lt;url&gt;]</td>\n",
       "      <td>[symptomatique &lt;url&gt;]</td>\n",
       "      <td>[]</td>\n",
       "      <td>0</td>\n",
       "      <td>...</td>\n",
       "      <td>0</td>\n",
       "      <td>0</td>\n",
       "      <td>0</td>\n",
       "      <td>0</td>\n",
       "      <td>0</td>\n",
       "      <td>0</td>\n",
       "      <td>0</td>\n",
       "      <td>0</td>\n",
       "      <td>0</td>\n",
       "      <td>0</td>\n",
       "    </tr>\n",
       "    <tr>\n",
       "      <th>1</th>\n",
       "      <td>1206550539477159941</td>\n",
       "      <td>2019-12-16</td>\n",
       "      <td>#ReformeRetraite #Delevoye @mention appelle au...</td>\n",
       "      <td>NaN</td>\n",
       "      <td>False</td>\n",
       "      <td>&lt;hashtag&gt; reforme retraite  &lt;hashtag&gt; delevoye...</td>\n",
       "      <td>[&lt;hashtag&gt;, reforme, retraite, &lt;hashtag&gt;, dele...</td>\n",
       "      <td>[&lt;hashtag&gt; reforme, reforme retraite, retraite...</td>\n",
       "      <td>[&lt;hashtag&gt; reforme retraite, reforme retraite ...</td>\n",
       "      <td>0</td>\n",
       "      <td>...</td>\n",
       "      <td>0</td>\n",
       "      <td>0</td>\n",
       "      <td>0</td>\n",
       "      <td>0</td>\n",
       "      <td>0</td>\n",
       "      <td>0</td>\n",
       "      <td>0</td>\n",
       "      <td>0</td>\n",
       "      <td>0</td>\n",
       "      <td>0</td>\n",
       "    </tr>\n",
       "  </tbody>\n",
       "</table>\n",
       "<p>2 rows × 1009 columns</p>\n",
       "</div>"
      ],
      "text/plain": [
       "                id_str         day  \\\n",
       "0  1206157336534016001  2019-12-15   \n",
       "1  1206550539477159941  2019-12-16   \n",
       "\n",
       "                                     anonymized_text label  is_annotated  \\\n",
       "0                                Symptomatique [url]   NaN         False   \n",
       "1  #ReformeRetraite #Delevoye @mention appelle au...   NaN         False   \n",
       "\n",
       "                                          clean_text  \\\n",
       "0                                symptomatique <url>   \n",
       "1  <hashtag> reforme retraite  <hashtag> delevoye...   \n",
       "\n",
       "                                              tokens  \\\n",
       "0        [symptomatique, <url>, symptomatique <url>]   \n",
       "1  [<hashtag>, reforme, retraite, <hashtag>, dele...   \n",
       "\n",
       "                                             bigrams  \\\n",
       "0                              [symptomatique <url>]   \n",
       "1  [<hashtag> reforme, reforme retraite, retraite...   \n",
       "\n",
       "                                            trigrams  token_10  ...  \\\n",
       "0                                                 []         0  ...   \n",
       "1  [<hashtag> reforme retraite, reforme retraite ...         0  ...   \n",
       "\n",
       "   token_vos  token_votre  token_vous  token_vous avez  token_vous etes  \\\n",
       "0          0            0           0                0                0   \n",
       "1          0            0           0                0                0   \n",
       "\n",
       "   token_vrai  token_vraiment  token_vu  token_wsh  token_yeux  \n",
       "0           0               0         0          0           0  \n",
       "1           0               0         0          0           0  \n",
       "\n",
       "[2 rows x 1009 columns]"
      ]
     },
     "execution_count": 14,
     "metadata": {},
     "output_type": "execute_result"
    }
   ],
   "source": [
    "# We will take CountVectorizer, with 1,000 features\n",
    "tweets_classif = vectorize_data(CountVectorizer, 1000)\n",
    "tweets_classif.head(2)"
   ]
  },
  {
   "cell_type": "markdown",
   "metadata": {},
   "source": [
    "## 2.3. Training a classifier"
   ]
  },
  {
   "cell_type": "markdown",
   "metadata": {},
   "source": [
    "### Split of training - testing set"
   ]
  },
  {
   "cell_type": "markdown",
   "metadata": {},
   "source": [
    "Supervised machine learning algorithms are usually trained on a subset of the whole dataset: we split the data in a training set ($(X_{train}, Y_{train})$, 70% of the data), on which we train the model, and testing ($(X_{test}, Y_{test})$, 30% of the data), on which we evaluate the model. That way, we evaluate the model on a set of data on which the model has not been fit."
   ]
  },
  {
   "cell_type": "markdown",
   "metadata": {},
   "source": [
    "<img src=\"imgs/train-test.png\" style=\"width: 400px;\">"
   ]
  },
  {
   "cell_type": "markdown",
   "metadata": {},
   "source": [
    "We consider as $X$ the features, obtained with CountVectorizer or TfidfVectorizer ; and $Y$ the labels. We only consider the tweets that were annotated.\n",
    "We use the [train_test_split](https://scikit-learn.org/stable/modules/generated/sklearn.model_selection.train_test_split.html) function from scikit learn.\n",
    "The parameter \"random state\" is there to make sure that the split will be the same."
   ]
  },
  {
   "cell_type": "code",
   "execution_count": 15,
   "metadata": {},
   "outputs": [],
   "source": [
    "X = tweets_classif.loc[tweets_classif['is_annotated']==True,tweets_classif.columns.str.startswith('token_')]\n",
    "Y = tweets_classif.loc[tweets_classif['is_annotated']==True,'label'].astype('str')\n",
    "X_train, X_test, y_train, y_test = train_test_split(X, Y, test_size=0.3, random_state=0)"
   ]
  },
  {
   "cell_type": "markdown",
   "metadata": {},
   "source": [
    "### Training a Logistic Regression model"
   ]
  },
  {
   "cell_type": "markdown",
   "metadata": {},
   "source": [
    "We use a [LogisticRegression](https://scikit-learn.org/stable/modules/generated/sklearn.linear_model.LogisticRegression.html) model, which is often used in problems of binary classification, and is a particular case of linear regression, in which the output is a class and not a value.\n",
    "\n",
    "The Logistic regression is based on the sigmoïd function $\\sigma (x) = \\frac{1}{1+e^{-x}}$, which has the particularity of transforming every value it takes into a number between 0 and 1. It then estimates the probability of belonging to a class or to the other one, with a threshold at 0.5."
   ]
  },
  {
   "cell_type": "markdown",
   "metadata": {},
   "source": [
    "<img src=\"imgs/sigmoid.png\" style=\"width: 500px;\">"
   ]
  },
  {
   "cell_type": "code",
   "execution_count": 16,
   "metadata": {},
   "outputs": [
    {
     "data": {
      "text/plain": [
       "LogisticRegression()"
      ]
     },
     "execution_count": 16,
     "metadata": {},
     "output_type": "execute_result"
    }
   ],
   "source": [
    "from sklearn.linear_model import LogisticRegression\n",
    "clf = LogisticRegression()\n",
    "clf.fit(X_train, y_train)"
   ]
  },
  {
   "cell_type": "markdown",
   "metadata": {},
   "source": [
    "## 2.4. Evaluating the classifier"
   ]
  },
  {
   "cell_type": "markdown",
   "metadata": {},
   "source": [
    "### Different metrics"
   ]
  },
  {
   "cell_type": "markdown",
   "metadata": {},
   "source": [
    "We can use several metrics to measure and assess the performance of a classifier. In the case of classification, we usually use *accuracy*, *precision*, *recall*, and *f1-score*. These metrics let us evaluate how our model is mistaken to predict the labels. \n",
    "\n",
    "- **accuracy**: proportion of well-classified elements. $accuracy= \\frac {TP + TN}{n}$\n",
    "- **precision**: measures the pertinence of the information. $precision = \\frac{TP}{TP + FP}$ If *precision* is high, we make sure most of the elements of class $k$ are supposed to be in that class, even if a lot of elements that are supposed to be in class $k$ get misclassified.\n",
    "- **recall**: measures the quantity of the information. $recall = \\frac{TP}{TP+FN}$ If *recall* is high, we make sure most of the elements of the class $k$ are well predicted, even if class $k$ might contains a lot of misclassified elements.\n",
    "- **f1-score** is a weighted average of precision and recall. $F1 = 2 \\frac{precision * recall}{precision + recall}$\n",
    "\n",
    "where $TP$ is *true positives*, which is the number of tweets that have been classified in the true category; $FP$, *false negatives*, the number of tweets that have been classied in class $k$ while they are not supposed to; $FN$, *false negatives*, the number of tweets that have been classified in another class than the class $k$ in which they were supposed to. The metrics *precision*, *recall*, and *f1-score* are computed for each class.\n",
    "\n",
    "While the *accuracy* gives us a global idea of the performance of the algorithm, it is important to compute the others metrics in case of unbalanced data (if a class contains most of the data)."
   ]
  },
  {
   "cell_type": "code",
   "execution_count": 17,
   "metadata": {},
   "outputs": [],
   "source": [
    "from sklearn.metrics import precision_recall_curve, classification_report, confusion_matrix, plot_roc_curve\n",
    "from sklearn import metrics\n",
    "import matplotlib.pyplot as plt\n",
    "\n",
    "import seaborn as sns\n",
    "sns.set(style=\"white\")\n",
    "sns.set(style=\"whitegrid\", color_codes=True)"
   ]
  },
  {
   "cell_type": "code",
   "execution_count": 18,
   "metadata": {},
   "outputs": [],
   "source": [
    "def plot_confusion_matrix(dataset, model):\n",
    "    \n",
    "    if dataset=='training':\n",
    "        y_data, X_data = y_train, X_train\n",
    "    elif dataset=='test':\n",
    "        y_data, X_data = y_test, X_test\n",
    "\n",
    "    cm = confusion_matrix(y_data,model.predict(X_data))\n",
    "    fig, ax = plt.subplots(figsize=(8, 8))\n",
    "    ax.imshow(cm)\n",
    "    ax.grid(False)\n",
    "    ax.xaxis.set(ticks=(0, 1), ticklabels=('Predicted False', 'Predicted True'))\n",
    "    ax.yaxis.set(ticks=(0, 1), ticklabels=('Actual False', 'Actual True'))\n",
    "    for tick in ax.xaxis.get_major_ticks():\n",
    "        tick.label.set_fontsize(20) \n",
    "    for tick in ax.yaxis.get_major_ticks():\n",
    "        tick.label.set_fontsize(20) \n",
    "    ax.set_ylim(1.5, -0.5)\n",
    "    for i in range(2):\n",
    "        for j in range(2):\n",
    "            ax.text(j, i, cm[i, j], ha='center', va='center', color='red')\n",
    "    plt.show()"
   ]
  },
  {
   "cell_type": "markdown",
   "metadata": {},
   "source": [
    "### Results on the training set"
   ]
  },
  {
   "cell_type": "code",
   "execution_count": 19,
   "metadata": {},
   "outputs": [
    {
     "name": "stdout",
     "output_type": "stream",
     "text": [
      "              precision    recall  f1-score   support\n",
      "\n",
      "       False       0.98      0.99      0.99       732\n",
      "        True       0.97      0.93      0.95       219\n",
      "\n",
      "    accuracy                           0.98       951\n",
      "   macro avg       0.97      0.96      0.97       951\n",
      "weighted avg       0.98      0.98      0.98       951\n",
      "\n"
     ]
    }
   ],
   "source": [
    "print(classification_report(y_train, clf.predict(X_train)) )"
   ]
  },
  {
   "cell_type": "code",
   "execution_count": 20,
   "metadata": {},
   "outputs": [
    {
     "data": {
      "image/png": "[encoded data removed]",
      "text/plain": [
       "<Figure size 576x576 with 1 Axes>"
      ]
     },
     "metadata": {},
     "output_type": "display_data"
    }
   ],
   "source": [
    "plot_confusion_matrix('training', clf)"
   ]
  },
  {
   "cell_type": "markdown",
   "metadata": {},
   "source": [
    "### Results on the test set"
   ]
  },
  {
   "cell_type": "code",
   "execution_count": 21,
   "metadata": {},
   "outputs": [
    {
     "name": "stdout",
     "output_type": "stream",
     "text": [
      "              precision    recall  f1-score   support\n",
      "\n",
      "       False       0.87      0.94      0.90       308\n",
      "        True       0.74      0.57      0.64       100\n",
      "\n",
      "    accuracy                           0.85       408\n",
      "   macro avg       0.81      0.75      0.77       408\n",
      "weighted avg       0.84      0.85      0.84       408\n",
      "\n"
     ]
    }
   ],
   "source": [
    "print(classification_report(y_test, clf.predict(X_test)) )"
   ]
  },
  {
   "cell_type": "code",
   "execution_count": 22,
   "metadata": {},
   "outputs": [
    {
     "data": {
      "image/png": "[encoded data removed]",
      "text/plain": [
       "<Figure size 576x576 with 1 Axes>"
      ]
     },
     "metadata": {},
     "output_type": "display_data"
    }
   ],
   "source": [
    "plot_confusion_matrix('test', clf)"
   ]
  },
  {
   "cell_type": "markdown",
   "metadata": {},
   "source": [
    "We notice that if our algorithm is quite performant on the training set, it becomes less performant on the test set, and especially in the prediction of the *yes* class. The high \"accuracy\" score is mainly due to the fact that our classes are unbalanced.\n",
    "Besides, this phenomena in which the model is better on the training than on the test set is called **overfitting**: it happens when our model is too dependant on the data, and cannot adapt to a new set of data. To overcome this issue, we can cross-validate our model."
   ]
  },
  {
   "cell_type": "markdown",
   "metadata": {},
   "source": [
    "## 2.5. Hyperparameters tuning and cross validation"
   ]
  },
  {
   "cell_type": "markdown",
   "metadata": {},
   "source": [
    "### Hyperparameters tuning"
   ]
  },
  {
   "cell_type": "markdown",
   "metadata": {},
   "source": [
    "Hyperparameters are parameters specific to the model, that will control the learning process. They differ from the other parameters obtained through training.\n",
    "\n",
    "[LogisticRegression](https://scikit-learn.org/stable/modules/generated/sklearn.linear_model.LogisticRegression.html) does not have a lot of hyperparameters to tune, but some specific to regularization:\n",
    "- solver : difference in performance or convergence('newton-cg', 'lbfgs', 'liblinear', 'sag', 'saga']\n",
    "- penalty : regularization, to avoid overfitting (l1, l2)\n",
    "- c : parameter that controls the penalty strength.\n",
    "\n",
    "Another parameter of interest is *class_weight*: we can specify \"balanced\" is our data is unbalanced (which is our case here)."
   ]
  },
  {
   "cell_type": "code",
   "execution_count": 23,
   "metadata": {},
   "outputs": [
    {
     "data": {
      "text/plain": [
       "{'C': 1.0,\n",
       " 'class_weight': None,\n",
       " 'dual': False,\n",
       " 'fit_intercept': True,\n",
       " 'intercept_scaling': 1,\n",
       " 'l1_ratio': None,\n",
       " 'max_iter': 100,\n",
       " 'multi_class': 'auto',\n",
       " 'n_jobs': None,\n",
       " 'penalty': 'l2',\n",
       " 'random_state': None,\n",
       " 'solver': 'lbfgs',\n",
       " 'tol': 0.0001,\n",
       " 'verbose': 0,\n",
       " 'warm_start': False}"
      ]
     },
     "execution_count": 23,
     "metadata": {},
     "output_type": "execute_result"
    }
   ],
   "source": [
    "LogisticRegression().get_params()"
   ]
  },
  {
   "cell_type": "markdown",
   "metadata": {},
   "source": [
    "\n",
    "Tuning hyperparameters can however accentuate overfitting, since we might develop a model that fits even more the data. Cross-validation can prevent overfitting."
   ]
  },
  {
   "cell_type": "markdown",
   "metadata": {},
   "source": [
    "### Cross validation"
   ]
  },
  {
   "cell_type": "markdown",
   "metadata": {},
   "source": [
    "Cross-validation is a method to make our model more robust to different data. \n",
    "\n",
    "How cross-validation ($k$-fold) works: \n",
    "- We divide our training data in $k$ sub-datasets of equal length\n",
    "- For each iteration $i=1,...,k$, we train the model on all the data except one fold that is used to validate the model\n",
    "\n",
    "We then can use the test set to validate the model.\n",
    "This way, we trained our model on different subsets of data."
   ]
  },
  {
   "cell_type": "markdown",
   "metadata": {},
   "source": [
    "<img src=\"imgs/cross-validation.png\" style=\"width: 500px;\">"
   ]
  },
  {
   "cell_type": "markdown",
   "metadata": {},
   "source": [
    "Basically, the architecture of our project now looks like:"
   ]
  },
  {
   "cell_type": "markdown",
   "metadata": {},
   "source": [
    "<img src=\"imgs/cross-validation-architecture.PNG\" style=\"width: 400px;\">"
   ]
  },
  {
   "cell_type": "markdown",
   "metadata": {},
   "source": [
    "### GridSearch"
   ]
  },
  {
   "cell_type": "markdown",
   "metadata": {},
   "source": [
    "Cross-validation and hyperparameters tuning can be done at the same time with [GridSearchCV](https://scikit-learn.org/stable/modules/generated/sklearn.model_selection.GridSearchCV.html). This algorithm tries all the possible combinations of hyperparameters, and returns the best model."
   ]
  },
  {
   "cell_type": "code",
   "execution_count": 24,
   "metadata": {},
   "outputs": [],
   "source": [
    "from sklearn.pipeline import Pipeline\n",
    "from sklearn.model_selection import GridSearchCV"
   ]
  },
  {
   "cell_type": "code",
   "execution_count": 25,
   "metadata": {},
   "outputs": [],
   "source": [
    "# Create first pipeline for base without reducing features.\n",
    "pipe = Pipeline([('classifier' , LogisticRegression())])\n",
    "\n",
    "# Create param grid.\n",
    "param_grid = [\n",
    "    {'classifier' : [LogisticRegression()],\n",
    "     'classifier__penalty' : ['l2'],\n",
    "     'classifier__C' :[100, 10, 1.0, 0.1, 0.01],\n",
    "    'classifier__solver' : ['newton-cg', 'lbfgs', 'liblinear'],\n",
    "    'classifier__class_weight':['balanced']}\n",
    "]\n",
    "\n",
    "# Create grid search object\n",
    "best_clf = GridSearchCV(pipe, param_grid = param_grid, cv = 3, verbose=True, n_jobs=-1)"
   ]
  },
  {
   "cell_type": "code",
   "execution_count": 26,
   "metadata": {},
   "outputs": [
    {
     "name": "stdout",
     "output_type": "stream",
     "text": [
      "Fitting 3 folds for each of 15 candidates, totalling 45 fits\n"
     ]
    },
    {
     "name": "stderr",
     "output_type": "stream",
     "text": [
      "[Parallel(n_jobs=-1)]: Using backend LokyBackend with 16 concurrent workers.\n",
      "[Parallel(n_jobs=-1)]: Done  45 out of  45 | elapsed:    2.4s finished\n"
     ]
    },
    {
     "data": {
      "text/plain": [
       "GridSearchCV(cv=3,\n",
       "             estimator=Pipeline(steps=[('classifier', LogisticRegression())]),\n",
       "             n_jobs=-1,\n",
       "             param_grid=[{'classifier': [LogisticRegression(C=0.1,\n",
       "                                                            class_weight='balanced',\n",
       "                                                            solver='newton-cg')],\n",
       "                          'classifier__C': [100, 10, 1.0, 0.1, 0.01],\n",
       "                          'classifier__class_weight': ['balanced'],\n",
       "                          'classifier__penalty': ['l2'],\n",
       "                          'classifier__solver': ['newton-cg', 'lbfgs',\n",
       "                                                 'liblinear']}],\n",
       "             verbose=True)"
      ]
     },
     "execution_count": 26,
     "metadata": {},
     "output_type": "execute_result"
    }
   ],
   "source": [
    "# Fit on data\n",
    "best_clf.fit(X_train, y_train)"
   ]
  },
  {
   "cell_type": "markdown",
   "metadata": {},
   "source": [
    "### Results on training set"
   ]
  },
  {
   "cell_type": "code",
   "execution_count": 27,
   "metadata": {},
   "outputs": [
    {
     "name": "stdout",
     "output_type": "stream",
     "text": [
      "              precision    recall  f1-score   support\n",
      "\n",
      "       False       0.98      0.90      0.94       732\n",
      "        True       0.73      0.95      0.83       219\n",
      "\n",
      "    accuracy                           0.91       951\n",
      "   macro avg       0.86      0.93      0.88       951\n",
      "weighted avg       0.93      0.91      0.91       951\n",
      "\n"
     ]
    }
   ],
   "source": [
    "print(classification_report(y_train, best_clf.predict(X_train)) )"
   ]
  },
  {
   "cell_type": "code",
   "execution_count": 28,
   "metadata": {},
   "outputs": [
    {
     "data": {
      "image/png": "[encoded data removed]",
      "text/plain": [
       "<Figure size 576x576 with 1 Axes>"
      ]
     },
     "metadata": {},
     "output_type": "display_data"
    }
   ],
   "source": [
    "plot_confusion_matrix('training', best_clf)"
   ]
  },
  {
   "cell_type": "markdown",
   "metadata": {},
   "source": [
    "### Results on testing set"
   ]
  },
  {
   "cell_type": "code",
   "execution_count": 29,
   "metadata": {},
   "outputs": [
    {
     "name": "stdout",
     "output_type": "stream",
     "text": [
      "              precision    recall  f1-score   support\n",
      "\n",
      "       False       0.93      0.89      0.91       308\n",
      "        True       0.71      0.80      0.75       100\n",
      "\n",
      "    accuracy                           0.87       408\n",
      "   macro avg       0.82      0.85      0.83       408\n",
      "weighted avg       0.88      0.87      0.87       408\n",
      "\n"
     ]
    }
   ],
   "source": [
    "print(classification_report(y_test, best_clf.predict(X_test)) )"
   ]
  },
  {
   "cell_type": "code",
   "execution_count": 30,
   "metadata": {},
   "outputs": [
    {
     "data": {
      "image/png": "[encoded data removed]",
      "text/plain": [
       "<Figure size 576x576 with 1 Axes>"
      ]
     },
     "metadata": {},
     "output_type": "display_data"
    }
   ],
   "source": [
    "plot_confusion_matrix('test', best_clf)"
   ]
  },
  {
   "cell_type": "markdown",
   "metadata": {},
   "source": [
    "# 3. Plot the results"
   ]
  },
  {
   "cell_type": "markdown",
   "metadata": {},
   "source": [
    "After having this classifier, we can extend our analysis and predict, on the whole sample of tweets (included those that were not annotated), which ones are true positives."
   ]
  },
  {
   "cell_type": "markdown",
   "metadata": {},
   "source": [
    "### Predicting the labels of all tweets with the classifier best_clf"
   ]
  },
  {
   "cell_type": "code",
   "execution_count": 31,
   "metadata": {},
   "outputs": [],
   "source": [
    "X_new = tweets_classif.loc[:, tweets_classif.columns.str.startswith('token_')]\n",
    "tweets_classif['new_label'] = best_clf.predict(X_new)"
   ]
  },
  {
   "cell_type": "code",
   "execution_count": 32,
   "metadata": {},
   "outputs": [
    {
     "data": {
      "text/html": [
       "<div>\n",
       "<style scoped>\n",
       "    .dataframe tbody tr th:only-of-type {\n",
       "        vertical-align: middle;\n",
       "    }\n",
       "\n",
       "    .dataframe tbody tr th {\n",
       "        vertical-align: top;\n",
       "    }\n",
       "\n",
       "    .dataframe thead th {\n",
       "        text-align: right;\n",
       "    }\n",
       "</style>\n",
       "<table border=\"1\" class=\"dataframe\">\n",
       "  <thead>\n",
       "    <tr style=\"text-align: right;\">\n",
       "      <th>label</th>\n",
       "      <th>False</th>\n",
       "      <th>True</th>\n",
       "    </tr>\n",
       "    <tr>\n",
       "      <th>new_label</th>\n",
       "      <th></th>\n",
       "      <th></th>\n",
       "    </tr>\n",
       "  </thead>\n",
       "  <tbody>\n",
       "    <tr>\n",
       "      <th>False</th>\n",
       "      <td>931</td>\n",
       "      <td>30</td>\n",
       "    </tr>\n",
       "    <tr>\n",
       "      <th>True</th>\n",
       "      <td>109</td>\n",
       "      <td>289</td>\n",
       "    </tr>\n",
       "  </tbody>\n",
       "</table>\n",
       "</div>"
      ],
      "text/plain": [
       "label      False  True \n",
       "new_label              \n",
       "False        931     30\n",
       "True         109    289"
      ]
     },
     "execution_count": 32,
     "metadata": {},
     "output_type": "execute_result"
    }
   ],
   "source": [
    "# Crosstab on the tweets that were annotated\n",
    "pd.crosstab(tweets_classif.loc[tweets_classif['is_annotated']==True,'new_label'],\n",
    "            tweets_classif.loc[tweets_classif['is_annotated']==True,'label'])"
   ]
  },
  {
   "cell_type": "markdown",
   "metadata": {},
   "source": [
    "### Plot the results"
   ]
  },
  {
   "cell_type": "code",
   "execution_count": 33,
   "metadata": {},
   "outputs": [],
   "source": [
    "tweets_classif['n_symptom']=1\n",
    "tweets_classif.loc[tweets_classif['new_label']=='True', 'n_true_positive']=1\n",
    "tweets_day=tweets_classif.groupby('day').agg('sum').reset_index()[['day','n_symptom','n_true_positive']]"
   ]
  },
  {
   "cell_type": "code",
   "execution_count": 34,
   "metadata": {},
   "outputs": [
    {
     "data": {
      "text/html": [
       "        <script type=\"text/javascript\">\n",
       "        window.PlotlyConfig = {MathJaxConfig: 'local'};\n",
       "        if (window.MathJax) {MathJax.Hub.Config({SVG: {font: \"STIX-Web\"}});}\n",
       "        if (typeof require !== 'undefined') {\n",
       "        require.undef(\"plotly\");\n",
       "        requirejs.config({\n",
       "            paths: {\n",
       "                'plotly': ['https://cdn.plot.ly/plotly-latest.min']\n",
       "            }\n",
       "        });\n",
       "        require(['plotly'], function(Plotly) {\n",
       "            window._Plotly = Plotly;\n",
       "        });\n",
       "        }\n",
       "        </script>\n",
       "        "
      ]
     },
     "metadata": {},
     "output_type": "display_data"
    }
   ],
   "source": [
    "import plotly.figure_factory as ff\n",
    "import plotly.offline as py\n",
    "import plotly.graph_objs as go\n",
    "from plotly import tools\n",
    "py.init_notebook_mode(connected = True)"
   ]
  },
  {
   "cell_type": "code",
   "execution_count": 35,
   "metadata": {},
   "outputs": [
    {
     "data": {
      "application/vnd.plotly.v1+json": {
       "config": {
        "linkText": "Export to plot.ly",
        "plotlyServerURL": "https://plot.ly",
        "showLink": false
       },
       "data": [
        {
         "line": {
          "color": "yellow"
         },
         "mode": "lines",
         "name": "Symptoms_predicted",
         "type": "scatter",
         "x": [
          "2019-12-02",
          "2019-12-03",
          "2019-12-04",
          "2019-12-05",
          "2019-12-06",
          "2019-12-07",
          "2019-12-08",
          "2019-12-09",
          "2019-12-10",
          "2019-12-11",
          "2019-12-12",
          "2019-12-13",
          "2019-12-14",
          "2019-12-15",
          "2019-12-16",
          "2019-12-17",
          "2019-12-18",
          "2019-12-19",
          "2019-12-20",
          "2019-12-21",
          "2019-12-22",
          "2019-12-23",
          "2019-12-24",
          "2019-12-25",
          "2019-12-26",
          "2019-12-27",
          "2019-12-28",
          "2019-12-29",
          "2019-12-30",
          "2019-12-31",
          "2020-01-01",
          "2020-01-02",
          "2020-01-03",
          "2020-01-04",
          "2020-01-05",
          "2020-01-06",
          "2020-01-07",
          "2020-01-08",
          "2020-01-09",
          "2020-01-10",
          "2020-01-11",
          "2020-01-12",
          "2020-01-13",
          "2020-01-14",
          "2020-01-15",
          "2020-01-16",
          "2020-01-17",
          "2020-01-18",
          "2020-01-19",
          "2020-01-20",
          "2020-01-21",
          "2020-01-22",
          "2020-01-23",
          "2020-01-24",
          "2020-01-25",
          "2020-01-26",
          "2020-01-27",
          "2020-01-28",
          "2020-01-29",
          "2020-01-30",
          "2020-01-31",
          "2020-02-01",
          "2020-02-02",
          "2020-02-03",
          "2020-02-04",
          "2020-02-05",
          "2020-02-06",
          "2020-02-07",
          "2020-02-08",
          "2020-02-09",
          "2020-02-10",
          "2020-02-11",
          "2020-02-12",
          "2020-02-13",
          "2020-02-14",
          "2020-02-15",
          "2020-02-16",
          "2020-02-17",
          "2020-02-18",
          "2020-02-19",
          "2020-02-20",
          "2020-02-21",
          "2020-02-22",
          "2020-02-23",
          "2020-02-24",
          "2020-02-25",
          "2020-02-26",
          "2020-02-27",
          "2020-02-28",
          "2020-02-29",
          "2020-03-01",
          "2020-03-02",
          "2020-03-03",
          "2020-03-04",
          "2020-03-05",
          "2020-03-06",
          "2020-03-07",
          "2020-03-08",
          "2020-03-09",
          "2020-03-10",
          "2020-03-11",
          "2020-03-12",
          "2020-03-13",
          "2020-03-14",
          "2020-03-15",
          "2020-03-16",
          "2020-03-17",
          "2020-03-18",
          "2020-03-19",
          "2020-03-20",
          "2020-03-21",
          "2020-03-22",
          "2020-03-23",
          "2020-03-24",
          "2020-03-25",
          "2020-03-26",
          "2020-03-27",
          "2020-03-28",
          "2020-03-29",
          "2020-03-30",
          "2020-03-31",
          "2020-04-01",
          "2020-04-02",
          "2020-04-03",
          "2020-04-04",
          "2020-04-05",
          "2020-04-06",
          "2020-04-07",
          "2020-04-08",
          "2020-04-09",
          "2020-04-10",
          "2020-04-11",
          "2020-04-12",
          "2020-04-13",
          "2020-04-14",
          "2020-04-15",
          "2020-04-16",
          "2020-04-17",
          "2020-04-18",
          "2020-04-19",
          "2020-04-20",
          "2020-04-21",
          "2020-04-22",
          "2020-04-23",
          "2020-04-24",
          "2020-04-25",
          "2020-04-26",
          "2020-04-27",
          "2020-04-28",
          "2020-04-29",
          "2020-04-30",
          "2020-05-01",
          "2020-05-02",
          "2020-05-03",
          "2020-05-04",
          "2020-05-05",
          "2020-05-06",
          "2020-05-07",
          "2020-05-08",
          "2020-05-09",
          "2020-05-10",
          "2020-05-11",
          "2020-05-12",
          "2020-05-13",
          "2020-05-14",
          "2020-05-15",
          "2020-05-16",
          "2020-05-17",
          "2020-05-18",
          "2020-05-19",
          "2020-05-20",
          "2020-05-21",
          "2020-05-22",
          "2020-05-23",
          "2020-05-24",
          "2020-05-25",
          "2020-05-26",
          "2020-05-27",
          "2020-05-28",
          "2020-05-29",
          "2020-05-30",
          "2020-05-31",
          "2020-06-01",
          "2020-06-02",
          "2020-06-03",
          "2020-06-04",
          "2020-06-05",
          "2020-06-06",
          "2020-06-07",
          "2020-06-08",
          "2020-06-09",
          "2020-06-10",
          "2020-06-11",
          "2020-06-12",
          "2020-06-13",
          "2020-06-14",
          "2020-06-15",
          "2020-06-16",
          "2020-06-17",
          "2020-06-18",
          "2020-06-19",
          "2020-06-20",
          "2020-06-21",
          "2020-06-22",
          "2020-06-23",
          "2020-06-24",
          "2020-06-25",
          "2020-06-26",
          "2020-06-27",
          "2020-06-28",
          "2020-06-29",
          "2020-06-30",
          "2020-07-01",
          "2020-07-02",
          "2020-07-03",
          "2020-07-04",
          "2020-07-05",
          "2020-07-06",
          "2020-07-07",
          "2020-07-08",
          "2020-07-09",
          "2020-07-10",
          "2020-07-11",
          "2020-07-12",
          "2020-07-13",
          "2020-07-14",
          "2020-07-15",
          "2020-07-16",
          "2020-07-17",
          "2020-07-18",
          "2020-07-19",
          "2020-07-20",
          "2020-07-21",
          "2020-07-22",
          "2020-07-23",
          "2020-07-24",
          "2020-07-25",
          "2020-07-26",
          "2020-07-27",
          "2020-07-28",
          "2020-07-29",
          "2020-07-30",
          "2020-07-31",
          "2020-08-01",
          "2020-08-02",
          "2020-08-03",
          "2020-08-04",
          "2020-08-05",
          "2020-08-06",
          "2020-08-07",
          "2020-08-08",
          "2020-08-09",
          "2020-08-10",
          "2020-08-11",
          "2020-08-12",
          "2020-08-13",
          "2020-08-14",
          "2020-08-15",
          "2020-08-16",
          "2020-08-17",
          "2020-08-18",
          "2020-08-19",
          "2020-08-20",
          "2020-08-21",
          "2020-08-22",
          "2020-08-23",
          "2020-08-24",
          "2020-08-25",
          "2020-08-26",
          "2020-08-27",
          "2020-08-28",
          "2020-08-29",
          "2020-08-30",
          "2020-08-31",
          "2020-09-01",
          "2020-09-02",
          "2020-09-03",
          "2020-09-04",
          "2020-09-05",
          "2020-09-06",
          "2020-09-07",
          "2020-09-08",
          "2020-09-09",
          "2020-09-10",
          "2020-09-11",
          "2020-09-12",
          "2020-09-13",
          "2020-09-14",
          "2020-09-15",
          "2020-09-16",
          "2020-09-17",
          "2020-09-18",
          "2020-09-19",
          "2020-09-20",
          "2020-09-21",
          "2020-09-22",
          "2020-09-23",
          "2020-09-24",
          "2020-09-25",
          "2020-09-26",
          "2020-09-27",
          "2020-09-28",
          "2020-09-29",
          "2020-09-30",
          "2020-10-01",
          "2020-10-02",
          "2020-10-03",
          "2020-10-04",
          "2020-10-05",
          "2020-10-06",
          "2020-10-07",
          "2020-10-08",
          "2020-10-09",
          "2020-10-10",
          "2020-10-11",
          "2020-10-12",
          "2020-10-13",
          "2020-10-14",
          "2020-10-15",
          "2020-10-16",
          "2020-10-17",
          "2020-10-18",
          "2020-10-19",
          "2020-10-20",
          "2020-10-21",
          "2020-10-22",
          "2020-10-23",
          "2020-10-24",
          "2020-10-25",
          "2020-10-26",
          "2020-10-27",
          "2020-10-28",
          "2020-10-29",
          "2020-10-30",
          "2020-10-31",
          "2020-11-01",
          "2020-11-02",
          "2020-11-03",
          "2020-11-04",
          "2020-11-05",
          "2020-11-06",
          "2020-11-07",
          "2020-11-08",
          "2020-11-09",
          "2020-11-10",
          "2020-11-11",
          "2020-11-12",
          "2020-11-13",
          "2020-11-14",
          "2020-11-15",
          "2020-11-16"
         ],
         "y": [
          null,
          null,
          null,
          null,
          null,
          null,
          2,
          2.2857142857142856,
          2.4285714285714284,
          3.2857142857142856,
          3.2857142857142856,
          3.4285714285714284,
          3.4285714285714284,
          2.857142857142857,
          2.857142857142857,
          3.142857142857143,
          2.2857142857142856,
          2.7142857142857144,
          2.5714285714285716,
          2.857142857142857,
          3,
          2.5714285714285716,
          2.2857142857142856,
          2.2857142857142856,
          1.7142857142857142,
          1.7142857142857142,
          1.4285714285714286,
          1.2857142857142858,
          2,
          2.5714285714285716,
          3.142857142857143,
          3.4285714285714284,
          4,
          4.142857142857143,
          4.285714285714286,
          4,
          3.857142857142857,
          3.5714285714285716,
          3.4285714285714284,
          2.857142857142857,
          2.7142857142857144,
          2.857142857142857,
          2.857142857142857,
          2.2857142857142856,
          2.2857142857142856,
          2.7142857142857144,
          2.857142857142857,
          3.2857142857142856,
          3.4285714285714284,
          3.2857142857142856,
          4.142857142857143,
          4.142857142857143,
          4.285714285714286,
          5.285714285714286,
          7.857142857142857,
          9,
          10,
          9.714285714285714,
          9.857142857142858,
          9.714285714285714,
          9,
          5.857142857142857,
          5,
          5.285714285714286,
          5,
          4.714285714285714,
          4.857142857142857,
          4.285714285714286,
          4.571428571428571,
          4.428571428571429,
          4.142857142857143,
          5,
          6.142857142857143,
          5.714285714285714,
          6,
          5.857142857142857,
          5.857142857142857,
          5.142857142857143,
          4.571428571428571,
          4,
          4.571428571428571,
          5.142857142857143,
          5.142857142857143,
          5.285714285714286,
          5.714285714285714,
          6.142857142857143,
          6.857142857142857,
          7,
          8.142857142857142,
          9.428571428571429,
          9.714285714285714,
          12.714285714285714,
          14.428571428571429,
          15.285714285714286,
          17,
          17.285714285714285,
          17,
          17.285714285714285,
          16.285714285714285,
          17,
          17,
          19.714285714285715,
          23.714285714285715,
          29,
          35.857142857142854,
          42.285714285714285,
          46.857142857142854,
          50.714285714285715,
          53,
          53.714285714285715,
          53.857142857142854,
          52.42857142857143,
          48.42857142857143,
          45.57142857142857,
          43.57142857142857,
          39.57142857142857,
          40,
          38.714285714285715,
          36,
          34.857142857142854,
          32.57142857142857,
          32.57142857142857,
          33.57142857142857,
          28.571428571428573,
          25.714285714285715,
          24.142857142857142,
          22.857142857142858,
          23,
          19.571428571428573,
          16.285714285714285,
          15.571428571428571,
          15.571428571428571,
          15.285714285714286,
          13.285714285714286,
          11.714285714285714,
          11.142857142857142,
          11.142857142857142,
          10.428571428571429,
          9.714285714285714,
          8.285714285714286,
          8.285714285714286,
          9.571428571428571,
          11,
          10.857142857142858,
          11.142857142857142,
          10.571428571428571,
          11.285714285714286,
          12,
          10.142857142857142,
          9,
          8.571428571428571,
          9,
          9.857142857142858,
          10.142857142857142,
          9.142857142857142,
          9.714285714285714,
          10.857142857142858,
          10.428571428571429,
          9.857142857142858,
          9,
          9.142857142857142,
          10.714285714285714,
          10.571428571428571,
          10.285714285714286,
          11.428571428571429,
          11.571428571428571,
          12.142857142857142,
          11.142857142857142,
          10.142857142857142,
          10.571428571428571,
          10.142857142857142,
          9,
          9.142857142857142,
          7.571428571428571,
          7.571428571428571,
          7.285714285714286,
          7.285714285714286,
          7.857142857142857,
          9.571428571428571,
          9.285714285714286,
          9.714285714285714,
          10,
          9.571428571428571,
          9,
          8.285714285714286,
          7.571428571428571,
          7.428571428571429,
          7.285714285714286,
          7.428571428571429,
          8.142857142857142,
          7.857142857142857,
          7.857142857142857,
          6.571428571428571,
          5.571428571428571,
          5.857142857142857,
          5.142857142857143,
          4.428571428571429,
          4.285714285714286,
          4.428571428571429,
          4.714285714285714,
          5.142857142857143,
          5.285714285714286,
          5.857142857142857,
          6.285714285714286,
          6.142857142857143,
          6,
          6,
          6.571428571428571,
          6.142857142857143,
          5.571428571428571,
          5.714285714285714,
          5.714285714285714,
          4.857142857142857,
          5.142857142857143,
          5,
          5.142857142857143,
          6,
          6.285714285714286,
          6.428571428571429,
          7.142857142857143,
          7.571428571428571,
          7.857142857142857,
          8.428571428571429,
          9,
          9,
          10.142857142857142,
          11,
          11.142857142857142,
          11.142857142857142,
          11.285714285714286,
          10.142857142857142,
          10.857142857142858,
          11.285714285714286,
          11,
          10.428571428571429,
          11.142857142857142,
          10.142857142857142,
          10,
          10,
          8.857142857142858,
          8.142857142857142,
          8.571428571428571,
          7.142857142857143,
          7.714285714285714,
          7.571428571428571,
          6.428571428571429,
          6.857142857142857,
          7,
          7.857142857142857,
          7.857142857142857,
          8.142857142857142,
          9.142857142857142,
          8.714285714285714,
          8.142857142857142,
          9.428571428571429,
          8.714285714285714,
          9.285714285714286,
          8.857142857142858,
          8.142857142857142,
          8.428571428571429,
          8.571428571428571,
          8.142857142857142,
          7.285714285714286,
          7.714285714285714,
          8.142857142857142,
          8.714285714285714,
          8.571428571428571,
          8.428571428571429,
          8.428571428571429,
          9.142857142857142,
          10,
          9.714285714285714,
          9.285714285714286,
          9.428571428571429,
          9.857142857142858,
          9.142857142857142,
          10,
          9,
          8.857142857142858,
          9.285714285714286,
          11.285714285714286,
          12.285714285714286,
          13.714285714285714,
          14.571428571428571,
          16.428571428571427,
          18.714285714285715,
          18.857142857142858,
          18.857142857142858,
          19.285714285714285,
          20.714285714285715,
          20.285714285714285,
          20,
          19.142857142857142,
          18.571428571428573,
          18.714285714285715,
          18.285714285714285,
          16.714285714285715,
          16.428571428571427,
          16.285714285714285,
          15.428571428571429,
          16.571428571428573,
          16.714285714285715,
          17.571428571428573,
          18,
          17.142857142857142,
          15.571428571428571,
          15.714285714285714,
          16.714285714285715,
          15.285714285714286,
          16.285714285714285,
          15.571428571428571,
          16.714285714285715,
          17.142857142857142,
          18,
          16.285714285714285,
          16.857142857142858,
          15,
          15.428571428571429,
          15.857142857142858,
          16.571428571428573,
          15.571428571428571,
          15.571428571428571,
          15.857142857142858,
          14.857142857142858,
          14.285714285714286,
          13.857142857142858,
          14.142857142857142,
          14.857142857142858,
          15.142857142857142,
          14.285714285714286,
          16.714285714285715,
          17.571428571428573,
          18,
          16.857142857142858,
          16.714285714285715,
          18,
          17,
          14.142857142857142,
          13.142857142857142,
          13.571428571428571,
          15.285714285714286,
          14.571428571428571,
          12.714285714285714,
          13.571428571428571,
          13.714285714285714,
          14.285714285714286,
          12.428571428571429,
          10.857142857142858,
          10.285714285714286,
          10,
          9.285714285714286
         ],
         "yaxis": "y"
        },
        {
         "line": {
          "color": "red"
         },
         "mode": "lines",
         "name": "Number of tweets mentionning symptoms",
         "type": "scatter",
         "x": [
          "2019-12-02",
          "2019-12-03",
          "2019-12-04",
          "2019-12-05",
          "2019-12-06",
          "2019-12-07",
          "2019-12-08",
          "2019-12-09",
          "2019-12-10",
          "2019-12-11",
          "2019-12-12",
          "2019-12-13",
          "2019-12-14",
          "2019-12-15",
          "2019-12-16",
          "2019-12-17",
          "2019-12-18",
          "2019-12-19",
          "2019-12-20",
          "2019-12-21",
          "2019-12-22",
          "2019-12-23",
          "2019-12-24",
          "2019-12-25",
          "2019-12-26",
          "2019-12-27",
          "2019-12-28",
          "2019-12-29",
          "2019-12-30",
          "2019-12-31",
          "2020-01-01",
          "2020-01-02",
          "2020-01-03",
          "2020-01-04",
          "2020-01-05",
          "2020-01-06",
          "2020-01-07",
          "2020-01-08",
          "2020-01-09",
          "2020-01-10",
          "2020-01-11",
          "2020-01-12",
          "2020-01-13",
          "2020-01-14",
          "2020-01-15",
          "2020-01-16",
          "2020-01-17",
          "2020-01-18",
          "2020-01-19",
          "2020-01-20",
          "2020-01-21",
          "2020-01-22",
          "2020-01-23",
          "2020-01-24",
          "2020-01-25",
          "2020-01-26",
          "2020-01-27",
          "2020-01-28",
          "2020-01-29",
          "2020-01-30",
          "2020-01-31",
          "2020-02-01",
          "2020-02-02",
          "2020-02-03",
          "2020-02-04",
          "2020-02-05",
          "2020-02-06",
          "2020-02-07",
          "2020-02-08",
          "2020-02-09",
          "2020-02-10",
          "2020-02-11",
          "2020-02-12",
          "2020-02-13",
          "2020-02-14",
          "2020-02-15",
          "2020-02-16",
          "2020-02-17",
          "2020-02-18",
          "2020-02-19",
          "2020-02-20",
          "2020-02-21",
          "2020-02-22",
          "2020-02-23",
          "2020-02-24",
          "2020-02-25",
          "2020-02-26",
          "2020-02-27",
          "2020-02-28",
          "2020-02-29",
          "2020-03-01",
          "2020-03-02",
          "2020-03-03",
          "2020-03-04",
          "2020-03-05",
          "2020-03-06",
          "2020-03-07",
          "2020-03-08",
          "2020-03-09",
          "2020-03-10",
          "2020-03-11",
          "2020-03-12",
          "2020-03-13",
          "2020-03-14",
          "2020-03-15",
          "2020-03-16",
          "2020-03-17",
          "2020-03-18",
          "2020-03-19",
          "2020-03-20",
          "2020-03-21",
          "2020-03-22",
          "2020-03-23",
          "2020-03-24",
          "2020-03-25",
          "2020-03-26",
          "2020-03-27",
          "2020-03-28",
          "2020-03-29",
          "2020-03-30",
          "2020-03-31",
          "2020-04-01",
          "2020-04-02",
          "2020-04-03",
          "2020-04-04",
          "2020-04-05",
          "2020-04-06",
          "2020-04-07",
          "2020-04-08",
          "2020-04-09",
          "2020-04-10",
          "2020-04-11",
          "2020-04-12",
          "2020-04-13",
          "2020-04-14",
          "2020-04-15",
          "2020-04-16",
          "2020-04-17",
          "2020-04-18",
          "2020-04-19",
          "2020-04-20",
          "2020-04-21",
          "2020-04-22",
          "2020-04-23",
          "2020-04-24",
          "2020-04-25",
          "2020-04-26",
          "2020-04-27",
          "2020-04-28",
          "2020-04-29",
          "2020-04-30",
          "2020-05-01",
          "2020-05-02",
          "2020-05-03",
          "2020-05-04",
          "2020-05-05",
          "2020-05-06",
          "2020-05-07",
          "2020-05-08",
          "2020-05-09",
          "2020-05-10",
          "2020-05-11",
          "2020-05-12",
          "2020-05-13",
          "2020-05-14",
          "2020-05-15",
          "2020-05-16",
          "2020-05-17",
          "2020-05-18",
          "2020-05-19",
          "2020-05-20",
          "2020-05-21",
          "2020-05-22",
          "2020-05-23",
          "2020-05-24",
          "2020-05-25",
          "2020-05-26",
          "2020-05-27",
          "2020-05-28",
          "2020-05-29",
          "2020-05-30",
          "2020-05-31",
          "2020-06-01",
          "2020-06-02",
          "2020-06-03",
          "2020-06-04",
          "2020-06-05",
          "2020-06-06",
          "2020-06-07",
          "2020-06-08",
          "2020-06-09",
          "2020-06-10",
          "2020-06-11",
          "2020-06-12",
          "2020-06-13",
          "2020-06-14",
          "2020-06-15",
          "2020-06-16",
          "2020-06-17",
          "2020-06-18",
          "2020-06-19",
          "2020-06-20",
          "2020-06-21",
          "2020-06-22",
          "2020-06-23",
          "2020-06-24",
          "2020-06-25",
          "2020-06-26",
          "2020-06-27",
          "2020-06-28",
          "2020-06-29",
          "2020-06-30",
          "2020-07-01",
          "2020-07-02",
          "2020-07-03",
          "2020-07-04",
          "2020-07-05",
          "2020-07-06",
          "2020-07-07",
          "2020-07-08",
          "2020-07-09",
          "2020-07-10",
          "2020-07-11",
          "2020-07-12",
          "2020-07-13",
          "2020-07-14",
          "2020-07-15",
          "2020-07-16",
          "2020-07-17",
          "2020-07-18",
          "2020-07-19",
          "2020-07-20",
          "2020-07-21",
          "2020-07-22",
          "2020-07-23",
          "2020-07-24",
          "2020-07-25",
          "2020-07-26",
          "2020-07-27",
          "2020-07-28",
          "2020-07-29",
          "2020-07-30",
          "2020-07-31",
          "2020-08-01",
          "2020-08-02",
          "2020-08-03",
          "2020-08-04",
          "2020-08-05",
          "2020-08-06",
          "2020-08-07",
          "2020-08-08",
          "2020-08-09",
          "2020-08-10",
          "2020-08-11",
          "2020-08-12",
          "2020-08-13",
          "2020-08-14",
          "2020-08-15",
          "2020-08-16",
          "2020-08-17",
          "2020-08-18",
          "2020-08-19",
          "2020-08-20",
          "2020-08-21",
          "2020-08-22",
          "2020-08-23",
          "2020-08-24",
          "2020-08-25",
          "2020-08-26",
          "2020-08-27",
          "2020-08-28",
          "2020-08-29",
          "2020-08-30",
          "2020-08-31",
          "2020-09-01",
          "2020-09-02",
          "2020-09-03",
          "2020-09-04",
          "2020-09-05",
          "2020-09-06",
          "2020-09-07",
          "2020-09-08",
          "2020-09-09",
          "2020-09-10",
          "2020-09-11",
          "2020-09-12",
          "2020-09-13",
          "2020-09-14",
          "2020-09-15",
          "2020-09-16",
          "2020-09-17",
          "2020-09-18",
          "2020-09-19",
          "2020-09-20",
          "2020-09-21",
          "2020-09-22",
          "2020-09-23",
          "2020-09-24",
          "2020-09-25",
          "2020-09-26",
          "2020-09-27",
          "2020-09-28",
          "2020-09-29",
          "2020-09-30",
          "2020-10-01",
          "2020-10-02",
          "2020-10-03",
          "2020-10-04",
          "2020-10-05",
          "2020-10-06",
          "2020-10-07",
          "2020-10-08",
          "2020-10-09",
          "2020-10-10",
          "2020-10-11",
          "2020-10-12",
          "2020-10-13",
          "2020-10-14",
          "2020-10-15",
          "2020-10-16",
          "2020-10-17",
          "2020-10-18",
          "2020-10-19",
          "2020-10-20",
          "2020-10-21",
          "2020-10-22",
          "2020-10-23",
          "2020-10-24",
          "2020-10-25",
          "2020-10-26",
          "2020-10-27",
          "2020-10-28",
          "2020-10-29",
          "2020-10-30",
          "2020-10-31",
          "2020-11-01",
          "2020-11-02",
          "2020-11-03",
          "2020-11-04",
          "2020-11-05",
          "2020-11-06",
          "2020-11-07",
          "2020-11-08",
          "2020-11-09",
          "2020-11-10",
          "2020-11-11",
          "2020-11-12",
          "2020-11-13",
          "2020-11-14",
          "2020-11-15",
          "2020-11-16"
         ],
         "y": [
          null,
          null,
          null,
          null,
          null,
          null,
          6.714285714285714,
          7,
          6.428571428571429,
          7.714285714285714,
          7.428571428571429,
          7.428571428571429,
          7,
          6.285714285714286,
          6.857142857142857,
          7.285714285714286,
          6.142857142857143,
          6.428571428571429,
          6.571428571428571,
          6.571428571428571,
          7.428571428571429,
          6.285714285714286,
          5.857142857142857,
          5.571428571428571,
          5.428571428571429,
          5.714285714285714,
          6.857142857142857,
          6.714285714285714,
          8,
          9.428571428571429,
          10.428571428571429,
          11.285714285714286,
          11.857142857142858,
          11.142857142857142,
          10.714285714285714,
          10,
          9.285714285714286,
          9.142857142857142,
          8.428571428571429,
          8,
          7.571428571428571,
          8,
          8.285714285714286,
          7.571428571428571,
          7.285714285714286,
          7.857142857142857,
          7.428571428571429,
          8.142857142857142,
          7.714285714285714,
          7,
          8.571428571428571,
          9.285714285714286,
          11.142857142857142,
          16.285714285714285,
          25.571428571428573,
          30.142857142857142,
          33.42857142857143,
          34.42857142857143,
          36.57142857142857,
          35.857142857142854,
          31.714285714285715,
          22.142857142857142,
          19.571428571428573,
          19,
          17.571428571428573,
          15.285714285714286,
          15.857142857142858,
          16.142857142857142,
          16.714285714285715,
          15.857142857142858,
          15.857142857142858,
          17.142857142857142,
          18.571428571428573,
          18.428571428571427,
          17.142857142857142,
          16.714285714285715,
          17,
          14.714285714285714,
          13.285714285714286,
          12,
          11.428571428571429,
          12.142857142857142,
          13.285714285714286,
          13.714285714285714,
          17.142857142857142,
          21.142857142857142,
          23.714285714285715,
          25.857142857142858,
          33.142857142857146,
          37.285714285714285,
          39.57142857142857,
          45.857142857142854,
          50.42857142857143,
          55.857142857142854,
          59,
          58.285714285714285,
          56.285714285714285,
          56.142857142857146,
          57,
          60.142857142857146,
          61.714285714285715,
          71.57142857142857,
          86.71428571428571,
          105.14285714285714,
          125.14285714285714,
          144,
          161.57142857142858,
          171,
          178.14285714285714,
          176.14285714285714,
          171.71428571428572,
          171.42857142857142,
          162.42857142857142,
          146.85714285714286,
          141,
          128.14285714285714,
          124.57142857142857,
          121.85714285714286,
          110.71428571428571,
          102,
          101,
          98.57142857142857,
          101.57142857142857,
          93.42857142857143,
          86.14285714285714,
          81,
          77.57142857142857,
          73.28571428571429,
          67.28571428571429,
          60.857142857142854,
          58.42857142857143,
          58.42857142857143,
          60.285714285714285,
          65.85714285714286,
          66.14285714285714,
          64.85714285714286,
          62.42857142857143,
          60.42857142857143,
          60.142857142857146,
          57.42857142857143,
          48.285714285714285,
          47,
          47.714285714285715,
          49,
          49.57142857142857,
          46.714285714285715,
          44.285714285714285,
          45.714285714285715,
          42.857142857142854,
          42.142857142857146,
          39.857142857142854,
          38.714285714285715,
          39,
          39.57142857142857,
          36.42857142857143,
          36.285714285714285,
          37.857142857142854,
          36.714285714285715,
          35.857142857142854,
          35.57142857142857,
          35.285714285714285,
          40.285714285714285,
          40,
          38.714285714285715,
          39.714285714285715,
          40.57142857142857,
          39.57142857142857,
          38,
          33.714285714285715,
          33.142857142857146,
          31.285714285714285,
          30.285714285714285,
          30.857142857142858,
          28.571428571428573,
          28.142857142857142,
          27.857142857142858,
          27.285714285714285,
          27.571428571428573,
          30.857142857142858,
          28.571428571428573,
          31,
          32.142857142857146,
          30.285714285714285,
          27.571428571428573,
          27,
          24.714285714285715,
          25.857142857142858,
          23.857142857142858,
          23.142857142857142,
          23.428571428571427,
          25.714285714285715,
          25.571428571428573,
          24,
          21.714285714285715,
          22.142857142857142,
          20.714285714285715,
          21.142857142857142,
          20.571428571428573,
          22.142857142857142,
          23.714285714285715,
          24.285714285714285,
          22.857142857142858,
          24,
          25.428571428571427,
          24.857142857142858,
          23.428571428571427,
          22.571428571428573,
          24.428571428571427,
          25.142857142857142,
          24,
          21.857142857142858,
          21.142857142857142,
          20.571428571428573,
          20,
          18.714285714285715,
          18.571428571428573,
          19.428571428571427,
          20.571428571428573,
          21.714285714285715,
          23,
          25.142857142857142,
          28.285714285714285,
          29.142857142857142,
          30.142857142857142,
          30.571428571428573,
          31.714285714285715,
          31.571428571428573,
          30.714285714285715,
          29.285714285714285,
          30.285714285714285,
          28.857142857142858,
          29.857142857142858,
          30.428571428571427,
          31.714285714285715,
          32.142857142857146,
          32.285714285714285,
          30.142857142857142,
          30.857142857142858,
          32.42857142857143,
          30.857142857142858,
          28.571428571428573,
          26.571428571428573,
          25.714285714285715,
          27,
          25.428571428571427,
          23.285714285714285,
          25,
          26.285714285714285,
          27.285714285714285,
          25.285714285714285,
          24.285714285714285,
          26.142857142857142,
          25.857142857142858,
          25.571428571428573,
          25.857142857142858,
          25.285714285714285,
          28,
          29.428571428571427,
          28.857142857142858,
          27.714285714285715,
          26.142857142857142,
          26.571428571428573,
          27.714285714285715,
          28.285714285714285,
          29.142857142857142,
          29.428571428571427,
          30,
          30.285714285714285,
          30.142857142857142,
          30,
          31.428571428571427,
          30.714285714285715,
          32,
          33.57142857142857,
          33.857142857142854,
          33,
          34,
          32.57142857142857,
          31.714285714285715,
          30.857142857142858,
          31.714285714285715,
          39.285714285714285,
          44.42857142857143,
          47.57142857142857,
          50.42857142857143,
          55.142857142857146,
          56.285714285714285,
          59.57142857142857,
          56.57142857142857,
          56.714285714285715,
          55.285714285714285,
          55.142857142857146,
          52.285714285714285,
          51.42857142857143,
          50,
          47.57142857142857,
          45,
          46,
          44.714285714285715,
          44,
          46,
          44.42857142857143,
          45.57142857142857,
          43.857142857142854,
          40.57142857142857,
          41,
          42.142857142857146,
          42.42857142857143,
          41.285714285714285,
          44.285714285714285,
          46.57142857142857,
          48.57142857142857,
          45.857142857142854,
          44.57142857142857,
          41.714285714285715,
          43.42857142857143,
          39.857142857142854,
          40.57142857142857,
          40,
          41.714285714285715,
          41,
          42,
          42,
          40.57142857142857,
          37.714285714285715,
          38.857142857142854,
          40.857142857142854,
          43.142857142857146,
          44.142857142857146,
          43.714285714285715,
          47.857142857142854,
          51.857142857142854,
          51.285714285714285,
          49.857142857142854,
          48.714285714285715,
          51.42857142857143,
          50.42857142857143,
          46,
          41.285714285714285,
          42.714285714285715,
          43.714285714285715,
          42.57142857142857,
          39.57142857142857,
          39.142857142857146,
          39.42857142857143,
          39.857142857142854,
          37,
          35,
          34.42857142857143,
          34.142857142857146,
          30.571428571428573
         ],
         "yaxis": "y2"
        }
       ],
       "layout": {
        "annotations": [
         {
          "showarrow": false,
          "text": "Lockdown (France)",
          "x": "2020-04-15",
          "y": 0.9,
          "yref": "paper"
         }
        ],
        "shapes": [
         {
          "fillcolor": "LightSalmon",
          "layer": "below",
          "line": {
           "width": 0
          },
          "opacity": 0.2,
          "type": "rect",
          "x0": "2020-03-17",
          "x1": "2020-05-11",
          "y0": 0,
          "y1": 1,
          "yref": "paper"
         }
        ],
        "template": {
         "data": {
          "bar": [
           {
            "error_x": {
             "color": "#2a3f5f"
            },
            "error_y": {
             "color": "#2a3f5f"
            },
            "marker": {
             "line": {
              "color": "#E5ECF6",
              "width": 0.5
             }
            },
            "type": "bar"
           }
          ],
          "barpolar": [
           {
            "marker": {
             "line": {
              "color": "#E5ECF6",
              "width": 0.5
             }
            },
            "type": "barpolar"
           }
          ],
          "carpet": [
           {
            "aaxis": {
             "endlinecolor": "#2a3f5f",
             "gridcolor": "white",
             "linecolor": "white",
             "minorgridcolor": "white",
             "startlinecolor": "#2a3f5f"
            },
            "baxis": {
             "endlinecolor": "#2a3f5f",
             "gridcolor": "white",
             "linecolor": "white",
             "minorgridcolor": "white",
             "startlinecolor": "#2a3f5f"
            },
            "type": "carpet"
           }
          ],
          "choropleth": [
           {
            "colorbar": {
             "outlinewidth": 0,
             "ticks": ""
            },
            "type": "choropleth"
           }
          ],
          "contour": [
           {
            "colorbar": {
             "outlinewidth": 0,
             "ticks": ""
            },
            "colorscale": [
             [
              0,
              "#0d0887"
             ],
             [
              0.1111111111111111,
              "#46039f"
             ],
             [
              0.2222222222222222,
              "#7201a8"
             ],
             [
              0.3333333333333333,
              "#9c179e"
             ],
             [
              0.4444444444444444,
              "#bd3786"
             ],
             [
              0.5555555555555556,
              "#d8576b"
             ],
             [
              0.6666666666666666,
              "#ed7953"
             ],
             [
              0.7777777777777778,
              "#fb9f3a"
             ],
             [
              0.8888888888888888,
              "#fdca26"
             ],
             [
              1,
              "#f0f921"
             ]
            ],
            "type": "contour"
           }
          ],
          "contourcarpet": [
           {
            "colorbar": {
             "outlinewidth": 0,
             "ticks": ""
            },
            "type": "contourcarpet"
           }
          ],
          "heatmap": [
           {
            "colorbar": {
             "outlinewidth": 0,
             "ticks": ""
            },
            "colorscale": [
             [
              0,
              "#0d0887"
             ],
             [
              0.1111111111111111,
              "#46039f"
             ],
             [
              0.2222222222222222,
              "#7201a8"
             ],
             [
              0.3333333333333333,
              "#9c179e"
             ],
             [
              0.4444444444444444,
              "#bd3786"
             ],
             [
              0.5555555555555556,
              "#d8576b"
             ],
             [
              0.6666666666666666,
              "#ed7953"
             ],
             [
              0.7777777777777778,
              "#fb9f3a"
             ],
             [
              0.8888888888888888,
              "#fdca26"
             ],
             [
              1,
              "#f0f921"
             ]
            ],
            "type": "heatmap"
           }
          ],
          "heatmapgl": [
           {
            "colorbar": {
             "outlinewidth": 0,
             "ticks": ""
            },
            "colorscale": [
             [
              0,
              "#0d0887"
             ],
             [
              0.1111111111111111,
              "#46039f"
             ],
             [
              0.2222222222222222,
              "#7201a8"
             ],
             [
              0.3333333333333333,
              "#9c179e"
             ],
             [
              0.4444444444444444,
              "#bd3786"
             ],
             [
              0.5555555555555556,
              "#d8576b"
             ],
             [
              0.6666666666666666,
              "#ed7953"
             ],
             [
              0.7777777777777778,
              "#fb9f3a"
             ],
             [
              0.8888888888888888,
              "#fdca26"
             ],
             [
              1,
              "#f0f921"
             ]
            ],
            "type": "heatmapgl"
           }
          ],
          "histogram": [
           {
            "marker": {
             "colorbar": {
              "outlinewidth": 0,
              "ticks": ""
             }
            },
            "type": "histogram"
           }
          ],
          "histogram2d": [
           {
            "colorbar": {
             "outlinewidth": 0,
             "ticks": ""
            },
            "colorscale": [
             [
              0,
              "#0d0887"
             ],
             [
              0.1111111111111111,
              "#46039f"
             ],
             [
              0.2222222222222222,
              "#7201a8"
             ],
             [
              0.3333333333333333,
              "#9c179e"
             ],
             [
              0.4444444444444444,
              "#bd3786"
             ],
             [
              0.5555555555555556,
              "#d8576b"
             ],
             [
              0.6666666666666666,
              "#ed7953"
             ],
             [
              0.7777777777777778,
              "#fb9f3a"
             ],
             [
              0.8888888888888888,
              "#fdca26"
             ],
             [
              1,
              "#f0f921"
             ]
            ],
            "type": "histogram2d"
           }
          ],
          "histogram2dcontour": [
           {
            "colorbar": {
             "outlinewidth": 0,
             "ticks": ""
            },
            "colorscale": [
             [
              0,
              "#0d0887"
             ],
             [
              0.1111111111111111,
              "#46039f"
             ],
             [
              0.2222222222222222,
              "#7201a8"
             ],
             [
              0.3333333333333333,
              "#9c179e"
             ],
             [
              0.4444444444444444,
              "#bd3786"
             ],
             [
              0.5555555555555556,
              "#d8576b"
             ],
             [
              0.6666666666666666,
              "#ed7953"
             ],
             [
              0.7777777777777778,
              "#fb9f3a"
             ],
             [
              0.8888888888888888,
              "#fdca26"
             ],
             [
              1,
              "#f0f921"
             ]
            ],
            "type": "histogram2dcontour"
           }
          ],
          "mesh3d": [
           {
            "colorbar": {
             "outlinewidth": 0,
             "ticks": ""
            },
            "type": "mesh3d"
           }
          ],
          "parcoords": [
           {
            "line": {
             "colorbar": {
              "outlinewidth": 0,
              "ticks": ""
             }
            },
            "type": "parcoords"
           }
          ],
          "pie": [
           {
            "automargin": true,
            "type": "pie"
           }
          ],
          "scatter": [
           {
            "marker": {
             "colorbar": {
              "outlinewidth": 0,
              "ticks": ""
             }
            },
            "type": "scatter"
           }
          ],
          "scatter3d": [
           {
            "line": {
             "colorbar": {
              "outlinewidth": 0,
              "ticks": ""
             }
            },
            "marker": {
             "colorbar": {
              "outlinewidth": 0,
              "ticks": ""
             }
            },
            "type": "scatter3d"
           }
          ],
          "scattercarpet": [
           {
            "marker": {
             "colorbar": {
              "outlinewidth": 0,
              "ticks": ""
             }
            },
            "type": "scattercarpet"
           }
          ],
          "scattergeo": [
           {
            "marker": {
             "colorbar": {
              "outlinewidth": 0,
              "ticks": ""
             }
            },
            "type": "scattergeo"
           }
          ],
          "scattergl": [
           {
            "marker": {
             "colorbar": {
              "outlinewidth": 0,
              "ticks": ""
             }
            },
            "type": "scattergl"
           }
          ],
          "scattermapbox": [
           {
            "marker": {
             "colorbar": {
              "outlinewidth": 0,
              "ticks": ""
             }
            },
            "type": "scattermapbox"
           }
          ],
          "scatterpolar": [
           {
            "marker": {
             "colorbar": {
              "outlinewidth": 0,
              "ticks": ""
             }
            },
            "type": "scatterpolar"
           }
          ],
          "scatterpolargl": [
           {
            "marker": {
             "colorbar": {
              "outlinewidth": 0,
              "ticks": ""
             }
            },
            "type": "scatterpolargl"
           }
          ],
          "scatterternary": [
           {
            "marker": {
             "colorbar": {
              "outlinewidth": 0,
              "ticks": ""
             }
            },
            "type": "scatterternary"
           }
          ],
          "surface": [
           {
            "colorbar": {
             "outlinewidth": 0,
             "ticks": ""
            },
            "colorscale": [
             [
              0,
              "#0d0887"
             ],
             [
              0.1111111111111111,
              "#46039f"
             ],
             [
              0.2222222222222222,
              "#7201a8"
             ],
             [
              0.3333333333333333,
              "#9c179e"
             ],
             [
              0.4444444444444444,
              "#bd3786"
             ],
             [
              0.5555555555555556,
              "#d8576b"
             ],
             [
              0.6666666666666666,
              "#ed7953"
             ],
             [
              0.7777777777777778,
              "#fb9f3a"
             ],
             [
              0.8888888888888888,
              "#fdca26"
             ],
             [
              1,
              "#f0f921"
             ]
            ],
            "type": "surface"
           }
          ],
          "table": [
           {
            "cells": {
             "fill": {
              "color": "#EBF0F8"
             },
             "line": {
              "color": "white"
             }
            },
            "header": {
             "fill": {
              "color": "#C8D4E3"
             },
             "line": {
              "color": "white"
             }
            },
            "type": "table"
           }
          ]
         },
         "layout": {
          "annotationdefaults": {
           "arrowcolor": "#2a3f5f",
           "arrowhead": 0,
           "arrowwidth": 1
          },
          "autotypenumbers": "strict",
          "coloraxis": {
           "colorbar": {
            "outlinewidth": 0,
            "ticks": ""
           }
          },
          "colorscale": {
           "diverging": [
            [
             0,
             "#8e0152"
            ],
            [
             0.1,
             "#c51b7d"
            ],
            [
             0.2,
             "#de77ae"
            ],
            [
             0.3,
             "#f1b6da"
            ],
            [
             0.4,
             "#fde0ef"
            ],
            [
             0.5,
             "#f7f7f7"
            ],
            [
             0.6,
             "#e6f5d0"
            ],
            [
             0.7,
             "#b8e186"
            ],
            [
             0.8,
             "#7fbc41"
            ],
            [
             0.9,
             "#4d9221"
            ],
            [
             1,
             "#276419"
            ]
           ],
           "sequential": [
            [
             0,
             "#0d0887"
            ],
            [
             0.1111111111111111,
             "#46039f"
            ],
            [
             0.2222222222222222,
             "#7201a8"
            ],
            [
             0.3333333333333333,
             "#9c179e"
            ],
            [
             0.4444444444444444,
             "#bd3786"
            ],
            [
             0.5555555555555556,
             "#d8576b"
            ],
            [
             0.6666666666666666,
             "#ed7953"
            ],
            [
             0.7777777777777778,
             "#fb9f3a"
            ],
            [
             0.8888888888888888,
             "#fdca26"
            ],
            [
             1,
             "#f0f921"
            ]
           ],
           "sequentialminus": [
            [
             0,
             "#0d0887"
            ],
            [
             0.1111111111111111,
             "#46039f"
            ],
            [
             0.2222222222222222,
             "#7201a8"
            ],
            [
             0.3333333333333333,
             "#9c179e"
            ],
            [
             0.4444444444444444,
             "#bd3786"
            ],
            [
             0.5555555555555556,
             "#d8576b"
            ],
            [
             0.6666666666666666,
             "#ed7953"
            ],
            [
             0.7777777777777778,
             "#fb9f3a"
            ],
            [
             0.8888888888888888,
             "#fdca26"
            ],
            [
             1,
             "#f0f921"
            ]
           ]
          },
          "colorway": [
           "#636efa",
           "#EF553B",
           "#00cc96",
           "#ab63fa",
           "#FFA15A",
           "#19d3f3",
           "#FF6692",
           "#B6E880",
           "#FF97FF",
           "#FECB52"
          ],
          "font": {
           "color": "#2a3f5f"
          },
          "geo": {
           "bgcolor": "white",
           "lakecolor": "white",
           "landcolor": "#E5ECF6",
           "showlakes": true,
           "showland": true,
           "subunitcolor": "white"
          },
          "hoverlabel": {
           "align": "left"
          },
          "hovermode": "closest",
          "mapbox": {
           "style": "light"
          },
          "paper_bgcolor": "white",
          "plot_bgcolor": "#E5ECF6",
          "polar": {
           "angularaxis": {
            "gridcolor": "white",
            "linecolor": "white",
            "ticks": ""
           },
           "bgcolor": "#E5ECF6",
           "radialaxis": {
            "gridcolor": "white",
            "linecolor": "white",
            "ticks": ""
           }
          },
          "scene": {
           "xaxis": {
            "backgroundcolor": "#E5ECF6",
            "gridcolor": "white",
            "gridwidth": 2,
            "linecolor": "white",
            "showbackground": true,
            "ticks": "",
            "zerolinecolor": "white"
           },
           "yaxis": {
            "backgroundcolor": "#E5ECF6",
            "gridcolor": "white",
            "gridwidth": 2,
            "linecolor": "white",
            "showbackground": true,
            "ticks": "",
            "zerolinecolor": "white"
           },
           "zaxis": {
            "backgroundcolor": "#E5ECF6",
            "gridcolor": "white",
            "gridwidth": 2,
            "linecolor": "white",
            "showbackground": true,
            "ticks": "",
            "zerolinecolor": "white"
           }
          },
          "shapedefaults": {
           "line": {
            "color": "#2a3f5f"
           }
          },
          "ternary": {
           "aaxis": {
            "gridcolor": "white",
            "linecolor": "white",
            "ticks": ""
           },
           "baxis": {
            "gridcolor": "white",
            "linecolor": "white",
            "ticks": ""
           },
           "bgcolor": "#E5ECF6",
           "caxis": {
            "gridcolor": "white",
            "linecolor": "white",
            "ticks": ""
           }
          },
          "title": {
           "x": 0.05
          },
          "xaxis": {
           "automargin": true,
           "gridcolor": "white",
           "linecolor": "white",
           "ticks": "",
           "title": {
            "standoff": 15
           },
           "zerolinecolor": "white",
           "zerolinewidth": 2
          },
          "yaxis": {
           "automargin": true,
           "gridcolor": "white",
           "linecolor": "white",
           "ticks": "",
           "title": {
            "standoff": 15
           },
           "zerolinecolor": "white",
           "zerolinewidth": 2
          }
         }
        },
        "title": {
         "text": "Comparison between the number of tweets mentioning symptoms and the number of tweets predicted as true positives"
        },
        "yaxis": {
         "title": {
          "text": "Number of tweets predicted as true positives"
         }
        },
        "yaxis2": {
         "overlaying": "y",
         "side": "right",
         "title": {
          "text": "Number of tweets mentioning symptoms"
         }
        }
       }
      },
      "text/html": [
       "<div>                            <div id=\"7751b523-2063-4c89-9513-dca2a27785b1\" class=\"plotly-graph-div\" style=\"height:525px; width:100%;\"></div>            <script type=\"text/javascript\">                require([\"plotly\"], function(Plotly) {                    window.PLOTLYENV=window.PLOTLYENV || {};                                    if (document.getElementById(\"7751b523-2063-4c89-9513-dca2a27785b1\")) {                    Plotly.newPlot(                        \"7751b523-2063-4c89-9513-dca2a27785b1\",                        [{\"line\": {\"color\": \"yellow\"}, \"mode\": \"lines\", \"name\": \"Symptoms_predicted\", \"type\": \"scatter\", \"x\": [\"2019-12-02\", \"2019-12-03\", \"2019-12-04\", \"2019-12-05\", \"2019-12-06\", \"2019-12-07\", \"2019-12-08\", \"2019-12-09\", \"2019-12-10\", \"2019-12-11\", \"2019-12-12\", \"2019-12-13\", \"2019-12-14\", \"2019-12-15\", \"2019-12-16\", \"2019-12-17\", \"2019-12-18\", \"2019-12-19\", \"2019-12-20\", \"2019-12-21\", \"2019-12-22\", \"2019-12-23\", \"2019-12-24\", \"2019-12-25\", \"2019-12-26\", \"2019-12-27\", \"2019-12-28\", \"2019-12-29\", \"2019-12-30\", \"2019-12-31\", \"2020-01-01\", \"2020-01-02\", \"2020-01-03\", \"2020-01-04\", \"2020-01-05\", \"2020-01-06\", \"2020-01-07\", \"2020-01-08\", \"2020-01-09\", \"2020-01-10\", \"2020-01-11\", \"2020-01-12\", \"2020-01-13\", \"2020-01-14\", \"2020-01-15\", \"2020-01-16\", \"2020-01-17\", \"2020-01-18\", \"2020-01-19\", \"2020-01-20\", \"2020-01-21\", \"2020-01-22\", \"2020-01-23\", \"2020-01-24\", \"2020-01-25\", \"2020-01-26\", \"2020-01-27\", \"2020-01-28\", \"2020-01-29\", \"2020-01-30\", \"2020-01-31\", \"2020-02-01\", \"2020-02-02\", \"2020-02-03\", \"2020-02-04\", \"2020-02-05\", \"2020-02-06\", \"2020-02-07\", \"2020-02-08\", \"2020-02-09\", \"2020-02-10\", \"2020-02-11\", \"2020-02-12\", \"2020-02-13\", \"2020-02-14\", \"2020-02-15\", \"2020-02-16\", \"2020-02-17\", \"2020-02-18\", \"2020-02-19\", \"2020-02-20\", \"2020-02-21\", \"2020-02-22\", \"2020-02-23\", \"2020-02-24\", \"2020-02-25\", \"2020-02-26\", \"2020-02-27\", \"2020-02-28\", \"2020-02-29\", \"2020-03-01\", \"2020-03-02\", \"2020-03-03\", \"2020-03-04\", \"2020-03-05\", \"2020-03-06\", \"2020-03-07\", \"2020-03-08\", \"2020-03-09\", \"2020-03-10\", \"2020-03-11\", \"2020-03-12\", \"2020-03-13\", \"2020-03-14\", \"2020-03-15\", \"2020-03-16\", \"2020-03-17\", \"2020-03-18\", \"2020-03-19\", \"2020-03-20\", \"2020-03-21\", \"2020-03-22\", \"2020-03-23\", \"2020-03-24\", \"2020-03-25\", \"2020-03-26\", \"2020-03-27\", \"2020-03-28\", \"2020-03-29\", \"2020-03-30\", \"2020-03-31\", \"2020-04-01\", \"2020-04-02\", \"2020-04-03\", \"2020-04-04\", \"2020-04-05\", \"2020-04-06\", \"2020-04-07\", \"2020-04-08\", \"2020-04-09\", \"2020-04-10\", \"2020-04-11\", \"2020-04-12\", \"2020-04-13\", \"2020-04-14\", \"2020-04-15\", \"2020-04-16\", \"2020-04-17\", \"2020-04-18\", \"2020-04-19\", \"2020-04-20\", \"2020-04-21\", \"2020-04-22\", \"2020-04-23\", \"2020-04-24\", \"2020-04-25\", \"2020-04-26\", \"2020-04-27\", \"2020-04-28\", \"2020-04-29\", \"2020-04-30\", \"2020-05-01\", \"2020-05-02\", \"2020-05-03\", \"2020-05-04\", \"2020-05-05\", \"2020-05-06\", \"2020-05-07\", \"2020-05-08\", \"2020-05-09\", \"2020-05-10\", \"2020-05-11\", \"2020-05-12\", \"2020-05-13\", \"2020-05-14\", \"2020-05-15\", \"2020-05-16\", \"2020-05-17\", \"2020-05-18\", \"2020-05-19\", \"2020-05-20\", \"2020-05-21\", \"2020-05-22\", \"2020-05-23\", \"2020-05-24\", \"2020-05-25\", \"2020-05-26\", \"2020-05-27\", \"2020-05-28\", \"2020-05-29\", \"2020-05-30\", \"2020-05-31\", \"2020-06-01\", \"2020-06-02\", \"2020-06-03\", \"2020-06-04\", \"2020-06-05\", \"2020-06-06\", \"2020-06-07\", \"2020-06-08\", \"2020-06-09\", \"2020-06-10\", \"2020-06-11\", \"2020-06-12\", \"2020-06-13\", \"2020-06-14\", \"2020-06-15\", \"2020-06-16\", \"2020-06-17\", \"2020-06-18\", \"2020-06-19\", \"2020-06-20\", \"2020-06-21\", \"2020-06-22\", \"2020-06-23\", \"2020-06-24\", \"2020-06-25\", \"2020-06-26\", \"2020-06-27\", \"2020-06-28\", \"2020-06-29\", \"2020-06-30\", \"2020-07-01\", \"2020-07-02\", \"2020-07-03\", \"2020-07-04\", \"2020-07-05\", \"2020-07-06\", \"2020-07-07\", \"2020-07-08\", \"2020-07-09\", \"2020-07-10\", \"2020-07-11\", \"2020-07-12\", \"2020-07-13\", \"2020-07-14\", \"2020-07-15\", \"2020-07-16\", \"2020-07-17\", \"2020-07-18\", \"2020-07-19\", \"2020-07-20\", \"2020-07-21\", \"2020-07-22\", \"2020-07-23\", \"2020-07-24\", \"2020-07-25\", \"2020-07-26\", \"2020-07-27\", \"2020-07-28\", \"2020-07-29\", \"2020-07-30\", \"2020-07-31\", \"2020-08-01\", \"2020-08-02\", \"2020-08-03\", \"2020-08-04\", \"2020-08-05\", \"2020-08-06\", \"2020-08-07\", \"2020-08-08\", \"2020-08-09\", \"2020-08-10\", \"2020-08-11\", \"2020-08-12\", \"2020-08-13\", \"2020-08-14\", \"2020-08-15\", \"2020-08-16\", \"2020-08-17\", \"2020-08-18\", \"2020-08-19\", \"2020-08-20\", \"2020-08-21\", \"2020-08-22\", \"2020-08-23\", \"2020-08-24\", \"2020-08-25\", \"2020-08-26\", \"2020-08-27\", \"2020-08-28\", \"2020-08-29\", \"2020-08-30\", \"2020-08-31\", \"2020-09-01\", \"2020-09-02\", \"2020-09-03\", \"2020-09-04\", \"2020-09-05\", \"2020-09-06\", \"2020-09-07\", \"2020-09-08\", \"2020-09-09\", \"2020-09-10\", \"2020-09-11\", \"2020-09-12\", \"2020-09-13\", \"2020-09-14\", \"2020-09-15\", \"2020-09-16\", \"2020-09-17\", \"2020-09-18\", \"2020-09-19\", \"2020-09-20\", \"2020-09-21\", \"2020-09-22\", \"2020-09-23\", \"2020-09-24\", \"2020-09-25\", \"2020-09-26\", \"2020-09-27\", \"2020-09-28\", \"2020-09-29\", \"2020-09-30\", \"2020-10-01\", \"2020-10-02\", \"2020-10-03\", \"2020-10-04\", \"2020-10-05\", \"2020-10-06\", \"2020-10-07\", \"2020-10-08\", \"2020-10-09\", \"2020-10-10\", \"2020-10-11\", \"2020-10-12\", \"2020-10-13\", \"2020-10-14\", \"2020-10-15\", \"2020-10-16\", \"2020-10-17\", \"2020-10-18\", \"2020-10-19\", \"2020-10-20\", \"2020-10-21\", \"2020-10-22\", \"2020-10-23\", \"2020-10-24\", \"2020-10-25\", \"2020-10-26\", \"2020-10-27\", \"2020-10-28\", \"2020-10-29\", \"2020-10-30\", \"2020-10-31\", \"2020-11-01\", \"2020-11-02\", \"2020-11-03\", \"2020-11-04\", \"2020-11-05\", \"2020-11-06\", \"2020-11-07\", \"2020-11-08\", \"2020-11-09\", \"2020-11-10\", \"2020-11-11\", \"2020-11-12\", \"2020-11-13\", \"2020-11-14\", \"2020-11-15\", \"2020-11-16\"], \"y\": [null, null, null, null, null, null, 2.0, 2.2857142857142856, 2.4285714285714284, 3.2857142857142856, 3.2857142857142856, 3.4285714285714284, 3.4285714285714284, 2.857142857142857, 2.857142857142857, 3.142857142857143, 2.2857142857142856, 2.7142857142857144, 2.5714285714285716, 2.857142857142857, 3.0, 2.5714285714285716, 2.2857142857142856, 2.2857142857142856, 1.7142857142857142, 1.7142857142857142, 1.4285714285714286, 1.2857142857142858, 2.0, 2.5714285714285716, 3.142857142857143, 3.4285714285714284, 4.0, 4.142857142857143, 4.285714285714286, 4.0, 3.857142857142857, 3.5714285714285716, 3.4285714285714284, 2.857142857142857, 2.7142857142857144, 2.857142857142857, 2.857142857142857, 2.2857142857142856, 2.2857142857142856, 2.7142857142857144, 2.857142857142857, 3.2857142857142856, 3.4285714285714284, 3.2857142857142856, 4.142857142857143, 4.142857142857143, 4.285714285714286, 5.285714285714286, 7.857142857142857, 9.0, 10.0, 9.714285714285714, 9.857142857142858, 9.714285714285714, 9.0, 5.857142857142857, 5.0, 5.285714285714286, 5.0, 4.714285714285714, 4.857142857142857, 4.285714285714286, 4.571428571428571, 4.428571428571429, 4.142857142857143, 5.0, 6.142857142857143, 5.714285714285714, 6.0, 5.857142857142857, 5.857142857142857, 5.142857142857143, 4.571428571428571, 4.0, 4.571428571428571, 5.142857142857143, 5.142857142857143, 5.285714285714286, 5.714285714285714, 6.142857142857143, 6.857142857142857, 7.0, 8.142857142857142, 9.428571428571429, 9.714285714285714, 12.714285714285714, 14.428571428571429, 15.285714285714286, 17.0, 17.285714285714285, 17.0, 17.285714285714285, 16.285714285714285, 17.0, 17.0, 19.714285714285715, 23.714285714285715, 29.0, 35.857142857142854, 42.285714285714285, 46.857142857142854, 50.714285714285715, 53.0, 53.714285714285715, 53.857142857142854, 52.42857142857143, 48.42857142857143, 45.57142857142857, 43.57142857142857, 39.57142857142857, 40.0, 38.714285714285715, 36.0, 34.857142857142854, 32.57142857142857, 32.57142857142857, 33.57142857142857, 28.571428571428573, 25.714285714285715, 24.142857142857142, 22.857142857142858, 23.0, 19.571428571428573, 16.285714285714285, 15.571428571428571, 15.571428571428571, 15.285714285714286, 13.285714285714286, 11.714285714285714, 11.142857142857142, 11.142857142857142, 10.428571428571429, 9.714285714285714, 8.285714285714286, 8.285714285714286, 9.571428571428571, 11.0, 10.857142857142858, 11.142857142857142, 10.571428571428571, 11.285714285714286, 12.0, 10.142857142857142, 9.0, 8.571428571428571, 9.0, 9.857142857142858, 10.142857142857142, 9.142857142857142, 9.714285714285714, 10.857142857142858, 10.428571428571429, 9.857142857142858, 9.0, 9.142857142857142, 10.714285714285714, 10.571428571428571, 10.285714285714286, 11.428571428571429, 11.571428571428571, 12.142857142857142, 11.142857142857142, 10.142857142857142, 10.571428571428571, 10.142857142857142, 9.0, 9.142857142857142, 7.571428571428571, 7.571428571428571, 7.285714285714286, 7.285714285714286, 7.857142857142857, 9.571428571428571, 9.285714285714286, 9.714285714285714, 10.0, 9.571428571428571, 9.0, 8.285714285714286, 7.571428571428571, 7.428571428571429, 7.285714285714286, 7.428571428571429, 8.142857142857142, 7.857142857142857, 7.857142857142857, 6.571428571428571, 5.571428571428571, 5.857142857142857, 5.142857142857143, 4.428571428571429, 4.285714285714286, 4.428571428571429, 4.714285714285714, 5.142857142857143, 5.285714285714286, 5.857142857142857, 6.285714285714286, 6.142857142857143, 6.0, 6.0, 6.571428571428571, 6.142857142857143, 5.571428571428571, 5.714285714285714, 5.714285714285714, 4.857142857142857, 5.142857142857143, 5.0, 5.142857142857143, 6.0, 6.285714285714286, 6.428571428571429, 7.142857142857143, 7.571428571428571, 7.857142857142857, 8.428571428571429, 9.0, 9.0, 10.142857142857142, 11.0, 11.142857142857142, 11.142857142857142, 11.285714285714286, 10.142857142857142, 10.857142857142858, 11.285714285714286, 11.0, 10.428571428571429, 11.142857142857142, 10.142857142857142, 10.0, 10.0, 8.857142857142858, 8.142857142857142, 8.571428571428571, 7.142857142857143, 7.714285714285714, 7.571428571428571, 6.428571428571429, 6.857142857142857, 7.0, 7.857142857142857, 7.857142857142857, 8.142857142857142, 9.142857142857142, 8.714285714285714, 8.142857142857142, 9.428571428571429, 8.714285714285714, 9.285714285714286, 8.857142857142858, 8.142857142857142, 8.428571428571429, 8.571428571428571, 8.142857142857142, 7.285714285714286, 7.714285714285714, 8.142857142857142, 8.714285714285714, 8.571428571428571, 8.428571428571429, 8.428571428571429, 9.142857142857142, 10.0, 9.714285714285714, 9.285714285714286, 9.428571428571429, 9.857142857142858, 9.142857142857142, 10.0, 9.0, 8.857142857142858, 9.285714285714286, 11.285714285714286, 12.285714285714286, 13.714285714285714, 14.571428571428571, 16.428571428571427, 18.714285714285715, 18.857142857142858, 18.857142857142858, 19.285714285714285, 20.714285714285715, 20.285714285714285, 20.0, 19.142857142857142, 18.571428571428573, 18.714285714285715, 18.285714285714285, 16.714285714285715, 16.428571428571427, 16.285714285714285, 15.428571428571429, 16.571428571428573, 16.714285714285715, 17.571428571428573, 18.0, 17.142857142857142, 15.571428571428571, 15.714285714285714, 16.714285714285715, 15.285714285714286, 16.285714285714285, 15.571428571428571, 16.714285714285715, 17.142857142857142, 18.0, 16.285714285714285, 16.857142857142858, 15.0, 15.428571428571429, 15.857142857142858, 16.571428571428573, 15.571428571428571, 15.571428571428571, 15.857142857142858, 14.857142857142858, 14.285714285714286, 13.857142857142858, 14.142857142857142, 14.857142857142858, 15.142857142857142, 14.285714285714286, 16.714285714285715, 17.571428571428573, 18.0, 16.857142857142858, 16.714285714285715, 18.0, 17.0, 14.142857142857142, 13.142857142857142, 13.571428571428571, 15.285714285714286, 14.571428571428571, 12.714285714285714, 13.571428571428571, 13.714285714285714, 14.285714285714286, 12.428571428571429, 10.857142857142858, 10.285714285714286, 10.0, 9.285714285714286], \"yaxis\": \"y\"}, {\"line\": {\"color\": \"red\"}, \"mode\": \"lines\", \"name\": \"Number of tweets mentionning symptoms\", \"type\": \"scatter\", \"x\": [\"2019-12-02\", \"2019-12-03\", \"2019-12-04\", \"2019-12-05\", \"2019-12-06\", \"2019-12-07\", \"2019-12-08\", \"2019-12-09\", \"2019-12-10\", \"2019-12-11\", \"2019-12-12\", \"2019-12-13\", \"2019-12-14\", \"2019-12-15\", \"2019-12-16\", \"2019-12-17\", \"2019-12-18\", \"2019-12-19\", \"2019-12-20\", \"2019-12-21\", \"2019-12-22\", \"2019-12-23\", \"2019-12-24\", \"2019-12-25\", \"2019-12-26\", \"2019-12-27\", \"2019-12-28\", \"2019-12-29\", \"2019-12-30\", \"2019-12-31\", \"2020-01-01\", \"2020-01-02\", \"2020-01-03\", \"2020-01-04\", \"2020-01-05\", \"2020-01-06\", \"2020-01-07\", \"2020-01-08\", \"2020-01-09\", \"2020-01-10\", \"2020-01-11\", \"2020-01-12\", \"2020-01-13\", \"2020-01-14\", \"2020-01-15\", \"2020-01-16\", \"2020-01-17\", \"2020-01-18\", \"2020-01-19\", \"2020-01-20\", \"2020-01-21\", \"2020-01-22\", \"2020-01-23\", \"2020-01-24\", \"2020-01-25\", \"2020-01-26\", \"2020-01-27\", \"2020-01-28\", \"2020-01-29\", \"2020-01-30\", \"2020-01-31\", \"2020-02-01\", \"2020-02-02\", \"2020-02-03\", \"2020-02-04\", \"2020-02-05\", \"2020-02-06\", \"2020-02-07\", \"2020-02-08\", \"2020-02-09\", \"2020-02-10\", \"2020-02-11\", \"2020-02-12\", \"2020-02-13\", \"2020-02-14\", \"2020-02-15\", \"2020-02-16\", \"2020-02-17\", \"2020-02-18\", \"2020-02-19\", \"2020-02-20\", \"2020-02-21\", \"2020-02-22\", \"2020-02-23\", \"2020-02-24\", \"2020-02-25\", \"2020-02-26\", \"2020-02-27\", \"2020-02-28\", \"2020-02-29\", \"2020-03-01\", \"2020-03-02\", \"2020-03-03\", \"2020-03-04\", \"2020-03-05\", \"2020-03-06\", \"2020-03-07\", \"2020-03-08\", \"2020-03-09\", \"2020-03-10\", \"2020-03-11\", \"2020-03-12\", \"2020-03-13\", \"2020-03-14\", \"2020-03-15\", \"2020-03-16\", \"2020-03-17\", \"2020-03-18\", \"2020-03-19\", \"2020-03-20\", \"2020-03-21\", \"2020-03-22\", \"2020-03-23\", \"2020-03-24\", \"2020-03-25\", \"2020-03-26\", \"2020-03-27\", \"2020-03-28\", \"2020-03-29\", \"2020-03-30\", \"2020-03-31\", \"2020-04-01\", \"2020-04-02\", \"2020-04-03\", \"2020-04-04\", \"2020-04-05\", \"2020-04-06\", \"2020-04-07\", \"2020-04-08\", \"2020-04-09\", \"2020-04-10\", \"2020-04-11\", \"2020-04-12\", \"2020-04-13\", \"2020-04-14\", \"2020-04-15\", \"2020-04-16\", \"2020-04-17\", \"2020-04-18\", \"2020-04-19\", \"2020-04-20\", \"2020-04-21\", \"2020-04-22\", \"2020-04-23\", \"2020-04-24\", \"2020-04-25\", \"2020-04-26\", \"2020-04-27\", \"2020-04-28\", \"2020-04-29\", \"2020-04-30\", \"2020-05-01\", \"2020-05-02\", \"2020-05-03\", \"2020-05-04\", \"2020-05-05\", \"2020-05-06\", \"2020-05-07\", \"2020-05-08\", \"2020-05-09\", \"2020-05-10\", \"2020-05-11\", \"2020-05-12\", \"2020-05-13\", \"2020-05-14\", \"2020-05-15\", \"2020-05-16\", \"2020-05-17\", \"2020-05-18\", \"2020-05-19\", \"2020-05-20\", \"2020-05-21\", \"2020-05-22\", \"2020-05-23\", \"2020-05-24\", \"2020-05-25\", \"2020-05-26\", \"2020-05-27\", \"2020-05-28\", \"2020-05-29\", \"2020-05-30\", \"2020-05-31\", \"2020-06-01\", \"2020-06-02\", \"2020-06-03\", \"2020-06-04\", \"2020-06-05\", \"2020-06-06\", \"2020-06-07\", \"2020-06-08\", \"2020-06-09\", \"2020-06-10\", \"2020-06-11\", \"2020-06-12\", \"2020-06-13\", \"2020-06-14\", \"2020-06-15\", \"2020-06-16\", \"2020-06-17\", \"2020-06-18\", \"2020-06-19\", \"2020-06-20\", \"2020-06-21\", \"2020-06-22\", \"2020-06-23\", \"2020-06-24\", \"2020-06-25\", \"2020-06-26\", \"2020-06-27\", \"2020-06-28\", \"2020-06-29\", \"2020-06-30\", \"2020-07-01\", \"2020-07-02\", \"2020-07-03\", \"2020-07-04\", \"2020-07-05\", \"2020-07-06\", \"2020-07-07\", \"2020-07-08\", \"2020-07-09\", \"2020-07-10\", \"2020-07-11\", \"2020-07-12\", \"2020-07-13\", \"2020-07-14\", \"2020-07-15\", \"2020-07-16\", \"2020-07-17\", \"2020-07-18\", \"2020-07-19\", \"2020-07-20\", \"2020-07-21\", \"2020-07-22\", \"2020-07-23\", \"2020-07-24\", \"2020-07-25\", \"2020-07-26\", \"2020-07-27\", \"2020-07-28\", \"2020-07-29\", \"2020-07-30\", \"2020-07-31\", \"2020-08-01\", \"2020-08-02\", \"2020-08-03\", \"2020-08-04\", \"2020-08-05\", \"2020-08-06\", \"2020-08-07\", \"2020-08-08\", \"2020-08-09\", \"2020-08-10\", \"2020-08-11\", \"2020-08-12\", \"2020-08-13\", \"2020-08-14\", \"2020-08-15\", \"2020-08-16\", \"2020-08-17\", \"2020-08-18\", \"2020-08-19\", \"2020-08-20\", \"2020-08-21\", \"2020-08-22\", \"2020-08-23\", \"2020-08-24\", \"2020-08-25\", \"2020-08-26\", \"2020-08-27\", \"2020-08-28\", \"2020-08-29\", \"2020-08-30\", \"2020-08-31\", \"2020-09-01\", \"2020-09-02\", \"2020-09-03\", \"2020-09-04\", \"2020-09-05\", \"2020-09-06\", \"2020-09-07\", \"2020-09-08\", \"2020-09-09\", \"2020-09-10\", \"2020-09-11\", \"2020-09-12\", \"2020-09-13\", \"2020-09-14\", \"2020-09-15\", \"2020-09-16\", \"2020-09-17\", \"2020-09-18\", \"2020-09-19\", \"2020-09-20\", \"2020-09-21\", \"2020-09-22\", \"2020-09-23\", \"2020-09-24\", \"2020-09-25\", \"2020-09-26\", \"2020-09-27\", \"2020-09-28\", \"2020-09-29\", \"2020-09-30\", \"2020-10-01\", \"2020-10-02\", \"2020-10-03\", \"2020-10-04\", \"2020-10-05\", \"2020-10-06\", \"2020-10-07\", \"2020-10-08\", \"2020-10-09\", \"2020-10-10\", \"2020-10-11\", \"2020-10-12\", \"2020-10-13\", \"2020-10-14\", \"2020-10-15\", \"2020-10-16\", \"2020-10-17\", \"2020-10-18\", \"2020-10-19\", \"2020-10-20\", \"2020-10-21\", \"2020-10-22\", \"2020-10-23\", \"2020-10-24\", \"2020-10-25\", \"2020-10-26\", \"2020-10-27\", \"2020-10-28\", \"2020-10-29\", \"2020-10-30\", \"2020-10-31\", \"2020-11-01\", \"2020-11-02\", \"2020-11-03\", \"2020-11-04\", \"2020-11-05\", \"2020-11-06\", \"2020-11-07\", \"2020-11-08\", \"2020-11-09\", \"2020-11-10\", \"2020-11-11\", \"2020-11-12\", \"2020-11-13\", \"2020-11-14\", \"2020-11-15\", \"2020-11-16\"], \"y\": [null, null, null, null, null, null, 6.714285714285714, 7.0, 6.428571428571429, 7.714285714285714, 7.428571428571429, 7.428571428571429, 7.0, 6.285714285714286, 6.857142857142857, 7.285714285714286, 6.142857142857143, 6.428571428571429, 6.571428571428571, 6.571428571428571, 7.428571428571429, 6.285714285714286, 5.857142857142857, 5.571428571428571, 5.428571428571429, 5.714285714285714, 6.857142857142857, 6.714285714285714, 8.0, 9.428571428571429, 10.428571428571429, 11.285714285714286, 11.857142857142858, 11.142857142857142, 10.714285714285714, 10.0, 9.285714285714286, 9.142857142857142, 8.428571428571429, 8.0, 7.571428571428571, 8.0, 8.285714285714286, 7.571428571428571, 7.285714285714286, 7.857142857142857, 7.428571428571429, 8.142857142857142, 7.714285714285714, 7.0, 8.571428571428571, 9.285714285714286, 11.142857142857142, 16.285714285714285, 25.571428571428573, 30.142857142857142, 33.42857142857143, 34.42857142857143, 36.57142857142857, 35.857142857142854, 31.714285714285715, 22.142857142857142, 19.571428571428573, 19.0, 17.571428571428573, 15.285714285714286, 15.857142857142858, 16.142857142857142, 16.714285714285715, 15.857142857142858, 15.857142857142858, 17.142857142857142, 18.571428571428573, 18.428571428571427, 17.142857142857142, 16.714285714285715, 17.0, 14.714285714285714, 13.285714285714286, 12.0, 11.428571428571429, 12.142857142857142, 13.285714285714286, 13.714285714285714, 17.142857142857142, 21.142857142857142, 23.714285714285715, 25.857142857142858, 33.142857142857146, 37.285714285714285, 39.57142857142857, 45.857142857142854, 50.42857142857143, 55.857142857142854, 59.0, 58.285714285714285, 56.285714285714285, 56.142857142857146, 57.0, 60.142857142857146, 61.714285714285715, 71.57142857142857, 86.71428571428571, 105.14285714285714, 125.14285714285714, 144.0, 161.57142857142858, 171.0, 178.14285714285714, 176.14285714285714, 171.71428571428572, 171.42857142857142, 162.42857142857142, 146.85714285714286, 141.0, 128.14285714285714, 124.57142857142857, 121.85714285714286, 110.71428571428571, 102.0, 101.0, 98.57142857142857, 101.57142857142857, 93.42857142857143, 86.14285714285714, 81.0, 77.57142857142857, 73.28571428571429, 67.28571428571429, 60.857142857142854, 58.42857142857143, 58.42857142857143, 60.285714285714285, 65.85714285714286, 66.14285714285714, 64.85714285714286, 62.42857142857143, 60.42857142857143, 60.142857142857146, 57.42857142857143, 48.285714285714285, 47.0, 47.714285714285715, 49.0, 49.57142857142857, 46.714285714285715, 44.285714285714285, 45.714285714285715, 42.857142857142854, 42.142857142857146, 39.857142857142854, 38.714285714285715, 39.0, 39.57142857142857, 36.42857142857143, 36.285714285714285, 37.857142857142854, 36.714285714285715, 35.857142857142854, 35.57142857142857, 35.285714285714285, 40.285714285714285, 40.0, 38.714285714285715, 39.714285714285715, 40.57142857142857, 39.57142857142857, 38.0, 33.714285714285715, 33.142857142857146, 31.285714285714285, 30.285714285714285, 30.857142857142858, 28.571428571428573, 28.142857142857142, 27.857142857142858, 27.285714285714285, 27.571428571428573, 30.857142857142858, 28.571428571428573, 31.0, 32.142857142857146, 30.285714285714285, 27.571428571428573, 27.0, 24.714285714285715, 25.857142857142858, 23.857142857142858, 23.142857142857142, 23.428571428571427, 25.714285714285715, 25.571428571428573, 24.0, 21.714285714285715, 22.142857142857142, 20.714285714285715, 21.142857142857142, 20.571428571428573, 22.142857142857142, 23.714285714285715, 24.285714285714285, 22.857142857142858, 24.0, 25.428571428571427, 24.857142857142858, 23.428571428571427, 22.571428571428573, 24.428571428571427, 25.142857142857142, 24.0, 21.857142857142858, 21.142857142857142, 20.571428571428573, 20.0, 18.714285714285715, 18.571428571428573, 19.428571428571427, 20.571428571428573, 21.714285714285715, 23.0, 25.142857142857142, 28.285714285714285, 29.142857142857142, 30.142857142857142, 30.571428571428573, 31.714285714285715, 31.571428571428573, 30.714285714285715, 29.285714285714285, 30.285714285714285, 28.857142857142858, 29.857142857142858, 30.428571428571427, 31.714285714285715, 32.142857142857146, 32.285714285714285, 30.142857142857142, 30.857142857142858, 32.42857142857143, 30.857142857142858, 28.571428571428573, 26.571428571428573, 25.714285714285715, 27.0, 25.428571428571427, 23.285714285714285, 25.0, 26.285714285714285, 27.285714285714285, 25.285714285714285, 24.285714285714285, 26.142857142857142, 25.857142857142858, 25.571428571428573, 25.857142857142858, 25.285714285714285, 28.0, 29.428571428571427, 28.857142857142858, 27.714285714285715, 26.142857142857142, 26.571428571428573, 27.714285714285715, 28.285714285714285, 29.142857142857142, 29.428571428571427, 30.0, 30.285714285714285, 30.142857142857142, 30.0, 31.428571428571427, 30.714285714285715, 32.0, 33.57142857142857, 33.857142857142854, 33.0, 34.0, 32.57142857142857, 31.714285714285715, 30.857142857142858, 31.714285714285715, 39.285714285714285, 44.42857142857143, 47.57142857142857, 50.42857142857143, 55.142857142857146, 56.285714285714285, 59.57142857142857, 56.57142857142857, 56.714285714285715, 55.285714285714285, 55.142857142857146, 52.285714285714285, 51.42857142857143, 50.0, 47.57142857142857, 45.0, 46.0, 44.714285714285715, 44.0, 46.0, 44.42857142857143, 45.57142857142857, 43.857142857142854, 40.57142857142857, 41.0, 42.142857142857146, 42.42857142857143, 41.285714285714285, 44.285714285714285, 46.57142857142857, 48.57142857142857, 45.857142857142854, 44.57142857142857, 41.714285714285715, 43.42857142857143, 39.857142857142854, 40.57142857142857, 40.0, 41.714285714285715, 41.0, 42.0, 42.0, 40.57142857142857, 37.714285714285715, 38.857142857142854, 40.857142857142854, 43.142857142857146, 44.142857142857146, 43.714285714285715, 47.857142857142854, 51.857142857142854, 51.285714285714285, 49.857142857142854, 48.714285714285715, 51.42857142857143, 50.42857142857143, 46.0, 41.285714285714285, 42.714285714285715, 43.714285714285715, 42.57142857142857, 39.57142857142857, 39.142857142857146, 39.42857142857143, 39.857142857142854, 37.0, 35.0, 34.42857142857143, 34.142857142857146, 30.571428571428573], \"yaxis\": \"y2\"}],                        {\"annotations\": [{\"showarrow\": false, \"text\": \"Lockdown (France)\", \"x\": \"2020-04-15\", \"y\": 0.9, \"yref\": \"paper\"}], \"shapes\": [{\"fillcolor\": \"LightSalmon\", \"layer\": \"below\", \"line\": {\"width\": 0}, \"opacity\": 0.2, \"type\": \"rect\", \"x0\": \"2020-03-17\", \"x1\": \"2020-05-11\", \"y0\": 0, \"y1\": 1, \"yref\": \"paper\"}], \"template\": {\"data\": {\"bar\": [{\"error_x\": {\"color\": \"#2a3f5f\"}, \"error_y\": {\"color\": \"#2a3f5f\"}, \"marker\": {\"line\": {\"color\": \"#E5ECF6\", \"width\": 0.5}}, \"type\": \"bar\"}], \"barpolar\": [{\"marker\": {\"line\": {\"color\": \"#E5ECF6\", \"width\": 0.5}}, \"type\": \"barpolar\"}], \"carpet\": [{\"aaxis\": {\"endlinecolor\": \"#2a3f5f\", \"gridcolor\": \"white\", \"linecolor\": \"white\", \"minorgridcolor\": \"white\", \"startlinecolor\": \"#2a3f5f\"}, \"baxis\": {\"endlinecolor\": \"#2a3f5f\", \"gridcolor\": \"white\", \"linecolor\": \"white\", \"minorgridcolor\": \"white\", \"startlinecolor\": \"#2a3f5f\"}, \"type\": \"carpet\"}], \"choropleth\": [{\"colorbar\": {\"outlinewidth\": 0, \"ticks\": \"\"}, \"type\": \"choropleth\"}], \"contour\": [{\"colorbar\": {\"outlinewidth\": 0, \"ticks\": \"\"}, \"colorscale\": [[0.0, \"#0d0887\"], [0.1111111111111111, \"#46039f\"], [0.2222222222222222, \"#7201a8\"], [0.3333333333333333, \"#9c179e\"], [0.4444444444444444, \"#bd3786\"], [0.5555555555555556, \"#d8576b\"], [0.6666666666666666, \"#ed7953\"], [0.7777777777777778, \"#fb9f3a\"], [0.8888888888888888, \"#fdca26\"], [1.0, \"#f0f921\"]], \"type\": \"contour\"}], \"contourcarpet\": [{\"colorbar\": {\"outlinewidth\": 0, \"ticks\": \"\"}, \"type\": \"contourcarpet\"}], \"heatmap\": [{\"colorbar\": {\"outlinewidth\": 0, \"ticks\": \"\"}, \"colorscale\": [[0.0, \"#0d0887\"], [0.1111111111111111, \"#46039f\"], [0.2222222222222222, \"#7201a8\"], [0.3333333333333333, \"#9c179e\"], [0.4444444444444444, \"#bd3786\"], [0.5555555555555556, \"#d8576b\"], [0.6666666666666666, \"#ed7953\"], [0.7777777777777778, \"#fb9f3a\"], [0.8888888888888888, \"#fdca26\"], [1.0, \"#f0f921\"]], \"type\": \"heatmap\"}], \"heatmapgl\": [{\"colorbar\": {\"outlinewidth\": 0, \"ticks\": \"\"}, \"colorscale\": [[0.0, \"#0d0887\"], [0.1111111111111111, \"#46039f\"], [0.2222222222222222, \"#7201a8\"], [0.3333333333333333, \"#9c179e\"], [0.4444444444444444, \"#bd3786\"], [0.5555555555555556, \"#d8576b\"], [0.6666666666666666, \"#ed7953\"], [0.7777777777777778, \"#fb9f3a\"], [0.8888888888888888, \"#fdca26\"], [1.0, \"#f0f921\"]], \"type\": \"heatmapgl\"}], \"histogram\": [{\"marker\": {\"colorbar\": {\"outlinewidth\": 0, \"ticks\": \"\"}}, \"type\": \"histogram\"}], \"histogram2d\": [{\"colorbar\": {\"outlinewidth\": 0, \"ticks\": \"\"}, \"colorscale\": [[0.0, \"#0d0887\"], [0.1111111111111111, \"#46039f\"], [0.2222222222222222, \"#7201a8\"], [0.3333333333333333, \"#9c179e\"], [0.4444444444444444, \"#bd3786\"], [0.5555555555555556, \"#d8576b\"], [0.6666666666666666, \"#ed7953\"], [0.7777777777777778, \"#fb9f3a\"], [0.8888888888888888, \"#fdca26\"], [1.0, \"#f0f921\"]], \"type\": \"histogram2d\"}], \"histogram2dcontour\": [{\"colorbar\": {\"outlinewidth\": 0, \"ticks\": \"\"}, \"colorscale\": [[0.0, \"#0d0887\"], [0.1111111111111111, \"#46039f\"], [0.2222222222222222, \"#7201a8\"], [0.3333333333333333, \"#9c179e\"], [0.4444444444444444, \"#bd3786\"], [0.5555555555555556, \"#d8576b\"], [0.6666666666666666, \"#ed7953\"], [0.7777777777777778, \"#fb9f3a\"], [0.8888888888888888, \"#fdca26\"], [1.0, \"#f0f921\"]], \"type\": \"histogram2dcontour\"}], \"mesh3d\": [{\"colorbar\": {\"outlinewidth\": 0, \"ticks\": \"\"}, \"type\": \"mesh3d\"}], \"parcoords\": [{\"line\": {\"colorbar\": {\"outlinewidth\": 0, \"ticks\": \"\"}}, \"type\": \"parcoords\"}], \"pie\": [{\"automargin\": true, \"type\": \"pie\"}], \"scatter\": [{\"marker\": {\"colorbar\": {\"outlinewidth\": 0, \"ticks\": \"\"}}, \"type\": \"scatter\"}], \"scatter3d\": [{\"line\": {\"colorbar\": {\"outlinewidth\": 0, \"ticks\": \"\"}}, \"marker\": {\"colorbar\": {\"outlinewidth\": 0, \"ticks\": \"\"}}, \"type\": \"scatter3d\"}], \"scattercarpet\": [{\"marker\": {\"colorbar\": {\"outlinewidth\": 0, \"ticks\": \"\"}}, \"type\": \"scattercarpet\"}], \"scattergeo\": [{\"marker\": {\"colorbar\": {\"outlinewidth\": 0, \"ticks\": \"\"}}, \"type\": \"scattergeo\"}], \"scattergl\": [{\"marker\": {\"colorbar\": {\"outlinewidth\": 0, \"ticks\": \"\"}}, \"type\": \"scattergl\"}], \"scattermapbox\": [{\"marker\": {\"colorbar\": {\"outlinewidth\": 0, \"ticks\": \"\"}}, \"type\": \"scattermapbox\"}], \"scatterpolar\": [{\"marker\": {\"colorbar\": {\"outlinewidth\": 0, \"ticks\": \"\"}}, \"type\": \"scatterpolar\"}], \"scatterpolargl\": [{\"marker\": {\"colorbar\": {\"outlinewidth\": 0, \"ticks\": \"\"}}, \"type\": \"scatterpolargl\"}], \"scatterternary\": [{\"marker\": {\"colorbar\": {\"outlinewidth\": 0, \"ticks\": \"\"}}, \"type\": \"scatterternary\"}], \"surface\": [{\"colorbar\": {\"outlinewidth\": 0, \"ticks\": \"\"}, \"colorscale\": [[0.0, \"#0d0887\"], [0.1111111111111111, \"#46039f\"], [0.2222222222222222, \"#7201a8\"], [0.3333333333333333, \"#9c179e\"], [0.4444444444444444, \"#bd3786\"], [0.5555555555555556, \"#d8576b\"], [0.6666666666666666, \"#ed7953\"], [0.7777777777777778, \"#fb9f3a\"], [0.8888888888888888, \"#fdca26\"], [1.0, \"#f0f921\"]], \"type\": \"surface\"}], \"table\": [{\"cells\": {\"fill\": {\"color\": \"#EBF0F8\"}, \"line\": {\"color\": \"white\"}}, \"header\": {\"fill\": {\"color\": \"#C8D4E3\"}, \"line\": {\"color\": \"white\"}}, \"type\": \"table\"}]}, \"layout\": {\"annotationdefaults\": {\"arrowcolor\": \"#2a3f5f\", \"arrowhead\": 0, \"arrowwidth\": 1}, \"autotypenumbers\": \"strict\", \"coloraxis\": {\"colorbar\": {\"outlinewidth\": 0, \"ticks\": \"\"}}, \"colorscale\": {\"diverging\": [[0, \"#8e0152\"], [0.1, \"#c51b7d\"], [0.2, \"#de77ae\"], [0.3, \"#f1b6da\"], [0.4, \"#fde0ef\"], [0.5, \"#f7f7f7\"], [0.6, \"#e6f5d0\"], [0.7, \"#b8e186\"], [0.8, \"#7fbc41\"], [0.9, \"#4d9221\"], [1, \"#276419\"]], \"sequential\": [[0.0, \"#0d0887\"], [0.1111111111111111, \"#46039f\"], [0.2222222222222222, \"#7201a8\"], [0.3333333333333333, \"#9c179e\"], [0.4444444444444444, \"#bd3786\"], [0.5555555555555556, \"#d8576b\"], [0.6666666666666666, \"#ed7953\"], [0.7777777777777778, \"#fb9f3a\"], [0.8888888888888888, \"#fdca26\"], [1.0, \"#f0f921\"]], \"sequentialminus\": [[0.0, \"#0d0887\"], [0.1111111111111111, \"#46039f\"], [0.2222222222222222, \"#7201a8\"], [0.3333333333333333, \"#9c179e\"], [0.4444444444444444, \"#bd3786\"], [0.5555555555555556, \"#d8576b\"], [0.6666666666666666, \"#ed7953\"], [0.7777777777777778, \"#fb9f3a\"], [0.8888888888888888, \"#fdca26\"], [1.0, \"#f0f921\"]]}, \"colorway\": [\"#636efa\", \"#EF553B\", \"#00cc96\", \"#ab63fa\", \"#FFA15A\", \"#19d3f3\", \"#FF6692\", \"#B6E880\", \"#FF97FF\", \"#FECB52\"], \"font\": {\"color\": \"#2a3f5f\"}, \"geo\": {\"bgcolor\": \"white\", \"lakecolor\": \"white\", \"landcolor\": \"#E5ECF6\", \"showlakes\": true, \"showland\": true, \"subunitcolor\": \"white\"}, \"hoverlabel\": {\"align\": \"left\"}, \"hovermode\": \"closest\", \"mapbox\": {\"style\": \"light\"}, \"paper_bgcolor\": \"white\", \"plot_bgcolor\": \"#E5ECF6\", \"polar\": {\"angularaxis\": {\"gridcolor\": \"white\", \"linecolor\": \"white\", \"ticks\": \"\"}, \"bgcolor\": \"#E5ECF6\", \"radialaxis\": {\"gridcolor\": \"white\", \"linecolor\": \"white\", \"ticks\": \"\"}}, \"scene\": {\"xaxis\": {\"backgroundcolor\": \"#E5ECF6\", \"gridcolor\": \"white\", \"gridwidth\": 2, \"linecolor\": \"white\", \"showbackground\": true, \"ticks\": \"\", \"zerolinecolor\": \"white\"}, \"yaxis\": {\"backgroundcolor\": \"#E5ECF6\", \"gridcolor\": \"white\", \"gridwidth\": 2, \"linecolor\": \"white\", \"showbackground\": true, \"ticks\": \"\", \"zerolinecolor\": \"white\"}, \"zaxis\": {\"backgroundcolor\": \"#E5ECF6\", \"gridcolor\": \"white\", \"gridwidth\": 2, \"linecolor\": \"white\", \"showbackground\": true, \"ticks\": \"\", \"zerolinecolor\": \"white\"}}, \"shapedefaults\": {\"line\": {\"color\": \"#2a3f5f\"}}, \"ternary\": {\"aaxis\": {\"gridcolor\": \"white\", \"linecolor\": \"white\", \"ticks\": \"\"}, \"baxis\": {\"gridcolor\": \"white\", \"linecolor\": \"white\", \"ticks\": \"\"}, \"bgcolor\": \"#E5ECF6\", \"caxis\": {\"gridcolor\": \"white\", \"linecolor\": \"white\", \"ticks\": \"\"}}, \"title\": {\"x\": 0.05}, \"xaxis\": {\"automargin\": true, \"gridcolor\": \"white\", \"linecolor\": \"white\", \"ticks\": \"\", \"title\": {\"standoff\": 15}, \"zerolinecolor\": \"white\", \"zerolinewidth\": 2}, \"yaxis\": {\"automargin\": true, \"gridcolor\": \"white\", \"linecolor\": \"white\", \"ticks\": \"\", \"title\": {\"standoff\": 15}, \"zerolinecolor\": \"white\", \"zerolinewidth\": 2}}}, \"title\": {\"text\": \"Comparison between the number of tweets mentioning symptoms and the number of tweets predicted as true positives\"}, \"yaxis\": {\"title\": {\"text\": \"Number of tweets predicted as true positives\"}}, \"yaxis2\": {\"overlaying\": \"y\", \"side\": \"right\", \"title\": {\"text\": \"Number of tweets mentioning symptoms\"}}},                        {\"responsive\": true}                    ).then(function(){\n",
       "                            \n",
       "var gd = document.getElementById('7751b523-2063-4c89-9513-dca2a27785b1');\n",
       "var x = new MutationObserver(function (mutations, observer) {{\n",
       "        var display = window.getComputedStyle(gd).display;\n",
       "        if (!display || display === 'none') {{\n",
       "            console.log([gd, 'removed!']);\n",
       "            Plotly.purge(gd);\n",
       "            observer.disconnect();\n",
       "        }}\n",
       "}});\n",
       "\n",
       "// Listen for the removal of the full notebook cells\n",
       "var notebookContainer = gd.closest('#notebook-container');\n",
       "if (notebookContainer) {{\n",
       "    x.observe(notebookContainer, {childList: true});\n",
       "}}\n",
       "\n",
       "// Listen for the clearing of the current output cell\n",
       "var outputEl = gd.closest('.output');\n",
       "if (outputEl) {{\n",
       "    x.observe(outputEl, {childList: true});\n",
       "}}\n",
       "\n",
       "                        })                };                });            </script>        </div>"
      ]
     },
     "metadata": {},
     "output_type": "display_data"
    }
   ],
   "source": [
    "def plot_true_positives() :\n",
    "    traces=[]\n",
    "\n",
    "\n",
    "    traces.append(go.Scatter(x = tweets_day['day'], \n",
    "                            y = tweets_day['n_true_positive'].rolling(7).mean(),\n",
    "                            mode = 'lines',\n",
    "                             name = 'Symptoms_predicted',\n",
    "                            line=dict(color='yellow'),\n",
    "                             yaxis='y1'))\n",
    "    \n",
    "    traces.append(go.Scatter(x = tweets_day['day'], \n",
    "                            y = tweets_day['n_symptom'].rolling(7).mean(),\n",
    "                            mode = 'lines',\n",
    "                             name = 'Number of tweets mentionning symptoms',\n",
    "                            line=dict(color='red'),\n",
    "                             yaxis='y2'))\n",
    "    \n",
    "    layout = go.Layout(title=\"Comparison between the number of tweets mentioning symptoms and the number of tweets predicted as true positives\",\n",
    "                       yaxis=dict(title='Number of tweets predicted as true positives'),\n",
    "                       yaxis2=dict(title='Number of tweets mentioning symptoms',\n",
    "                                   overlaying='y',\n",
    "                                   side='right'))\n",
    "    fig = go.Figure(traces, layout)\n",
    "    \n",
    "    fig.add_shape(dict(type=\"rect\",\n",
    "                       yref='paper',\n",
    "                       x0='2020-03-17',\n",
    "                       y0=0,\n",
    "                       x1='2020-05-11',\n",
    "                       y1=1,\n",
    "                       fillcolor=\"LightSalmon\",\n",
    "                       opacity=0.2,\n",
    "                       layer='below',\n",
    "                       line_width=0))\n",
    "    \n",
    "    fig.update_layout(annotations=[dict(\n",
    "        x='2020-04-15',\n",
    "        y=0.9,\n",
    "        yref=\"paper\",\n",
    "        text=\"Lockdown (France)\", showarrow=False)])\n",
    "    \n",
    "    py.iplot(fig)\n",
    "plot_true_positives()"
   ]
  },
  {
   "cell_type": "markdown",
   "metadata": {},
   "source": [
    "# 4. Your turn!"
   ]
  },
  {
   "cell_type": "markdown",
   "metadata": {},
   "source": [
    "If you want to practice on waht we just saw, you can:\n",
    "- Try another method of vectorization of the tokens (TfidfVectorize for example)\n",
    "- Try other algorithms (RandomForest for example)\n",
    "- Plot the number of tweets predicted as true positives against the emergencies data and compute the correlation"
   ]
  },
  {
   "cell_type": "code",
   "execution_count": null,
   "metadata": {},
   "outputs": [],
   "source": []
  }
 ],
 "metadata": {
  "kernelspec": {
   "display_name": "Python 3",
   "language": "python",
   "name": "python3"
  },
  "language_info": {
   "codemirror_mode": {
    "name": "ipython",
    "version": 3
   },
   "file_extension": ".py",
   "mimetype": "text/x-python",
   "name": "python",
   "nbconvert_exporter": "python",
   "pygments_lexer": "ipython3",
   "version": "3.7.5"
  }
 },
 "nbformat": 4,
 "nbformat_minor": 4
}
